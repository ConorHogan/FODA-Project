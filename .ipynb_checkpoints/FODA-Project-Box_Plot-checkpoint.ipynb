{
 "cells": [
  {
   "cell_type": "markdown",
   "metadata": {},
   "source": [
    "## 1.0 Intro to Box Plots"
   ]
  },
  {
   "cell_type": "markdown",
   "metadata": {},
   "source": [
    "Method for graphically depicting groups of numerical data through their quartiles\n",
    "\n",
    "*Key Elements of a box-plot:*\n",
    "* May include \"whiskers\" showing variability outside upper and lower quartiles\n",
    "* Outliers may be plotted as individual points\n",
    "* Non parametric in that they show variations in samples of population without making assumptions on distribution\n",
    "* Spacings within the box show \"dispersion\" and \"skewness\" of data\n",
    "* Allow the viewer to visually estimate L-estimators\n",
    "    * Interquartile range\n",
    "    * Midhinge \n",
    "    * Range\n",
    "    * Mid-Range\n",
    "    * Trimean\n",
    "* The band within the box represents the median or second quartile\n",
    "* Width of the individual boxes is generally used to describe the size of the group it represents. Usually the width is the square route of the group size.\n"
   ]
  },
  {
   "cell_type": "markdown",
   "metadata": {},
   "source": [
    "### 1.1 Inventor of the boxplot"
   ]
  },
  {
   "cell_type": "markdown",
   "metadata": {},
   "source": [
    "The boxplot was first created by John Turkey, an American Mathemtician and brother in law of one the key players in our previous project; Frank Anscombe. He introduced in his book *\"Explaratory Data Analysis\"* published in 1977.\n",
    "\n",
    "*\"Among Tukey's most far-reaching contributions was his development of techniques for \"robust analysis,\" an approach to statistics that guards against wrong answers in situations where a randomly chosen sample of data happens to poorly represent the rest of the data set. Tukey also pioneered approaches to exploratory data analysis, developing graphing and plotting methods that are fixtures of introductory statistics texts, and authored many publications on time series analysis and other aspects of digital signal processing that have become central to modern engineering and science.\"* - Obituary of John Tukey - Princeton https://pr.princeton.edu/news/00/q3/0727-tukey.htm\n",
    "\n"
   ]
  },
  {
   "cell_type": "markdown",
   "metadata": {},
   "source": [
    "### 1.2 Limitations of the boxplot"
   ]
  },
  {
   "cell_type": "code",
   "execution_count": null,
   "metadata": {},
   "outputs": [],
   "source": []
  }
 ],
 "metadata": {
  "kernelspec": {
   "display_name": "Python 3",
   "language": "python",
   "name": "python3"
  },
  "language_info": {
   "codemirror_mode": {
    "name": "ipython",
    "version": 3
   },
   "file_extension": ".py",
   "mimetype": "text/x-python",
   "name": "python",
   "nbconvert_exporter": "python",
   "pygments_lexer": "ipython3",
   "version": "3.6.7"
  }
 },
 "nbformat": 4,
 "nbformat_minor": 2
}
