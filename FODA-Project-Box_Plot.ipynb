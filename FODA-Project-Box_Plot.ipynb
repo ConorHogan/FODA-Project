{
 "cells": [
  {
   "cell_type": "code",
   "execution_count": 1,
   "metadata": {},
   "outputs": [],
   "source": [
    "import pandas as pd\n",
    "import numpy as np\n",
    "import matplotlib.pyplot as plt\n",
    "import seaborn as sns"
   ]
  },
  {
   "cell_type": "code",
   "execution_count": 2,
   "metadata": {},
   "outputs": [],
   "source": [
    "url = \"https://raw.githubusercontent.com/ConorHogan/FODA-Project/master/GDPperCountry.csv\"\n",
    "gdp_percountry = pd.read_csv(url)"
   ]
  },
  {
   "cell_type": "code",
   "execution_count": 3,
   "metadata": {},
   "outputs": [
    {
     "data": {
      "text/html": [
       "<div>\n",
       "<style scoped>\n",
       "    .dataframe tbody tr th:only-of-type {\n",
       "        vertical-align: middle;\n",
       "    }\n",
       "\n",
       "    .dataframe tbody tr th {\n",
       "        vertical-align: top;\n",
       "    }\n",
       "\n",
       "    .dataframe thead th {\n",
       "        text-align: right;\n",
       "    }\n",
       "</style>\n",
       "<table border=\"1\" class=\"dataframe\">\n",
       "  <thead>\n",
       "    <tr style=\"text-align: right;\">\n",
       "      <th></th>\n",
       "      <th>Continent</th>\n",
       "      <th>Country_Territory</th>\n",
       "      <th>Per_Cap_GDP_Nom_Dollars</th>\n",
       "    </tr>\n",
       "  </thead>\n",
       "  <tbody>\n",
       "    <tr>\n",
       "      <th>0</th>\n",
       "      <td>Asia</td>\n",
       "      <td>Macau</td>\n",
       "      <td>77111</td>\n",
       "    </tr>\n",
       "    <tr>\n",
       "      <th>1</th>\n",
       "      <td>Asia</td>\n",
       "      <td>Hong Kong</td>\n",
       "      <td>46080</td>\n",
       "    </tr>\n",
       "    <tr>\n",
       "      <th>2</th>\n",
       "      <td>Europe</td>\n",
       "      <td>Luxembourg</td>\n",
       "      <td>105863</td>\n",
       "    </tr>\n",
       "    <tr>\n",
       "      <th>3</th>\n",
       "      <td>Europe</td>\n",
       "      <td>Switzerland</td>\n",
       "      <td>80637</td>\n",
       "    </tr>\n",
       "    <tr>\n",
       "      <th>4</th>\n",
       "      <td>Europe</td>\n",
       "      <td>Norway</td>\n",
       "      <td>75389</td>\n",
       "    </tr>\n",
       "    <tr>\n",
       "      <th>5</th>\n",
       "      <td>Europe</td>\n",
       "      <td>Iceland</td>\n",
       "      <td>70248</td>\n",
       "    </tr>\n",
       "    <tr>\n",
       "      <th>6</th>\n",
       "      <td>Europe</td>\n",
       "      <td>Ireland</td>\n",
       "      <td>68710</td>\n",
       "    </tr>\n",
       "    <tr>\n",
       "      <th>7</th>\n",
       "      <td>Asia</td>\n",
       "      <td>Qatar</td>\n",
       "      <td>61024</td>\n",
       "    </tr>\n",
       "    <tr>\n",
       "      <th>8</th>\n",
       "      <td>North_America</td>\n",
       "      <td>United States</td>\n",
       "      <td>59792</td>\n",
       "    </tr>\n",
       "    <tr>\n",
       "      <th>9</th>\n",
       "      <td>Asia</td>\n",
       "      <td>Singapore</td>\n",
       "      <td>57713</td>\n",
       "    </tr>\n",
       "    <tr>\n",
       "      <th>10</th>\n",
       "      <td>Europe</td>\n",
       "      <td>Denmark</td>\n",
       "      <td>56630</td>\n",
       "    </tr>\n",
       "    <tr>\n",
       "      <th>11</th>\n",
       "      <td>Europe</td>\n",
       "      <td>Australia</td>\n",
       "      <td>55692</td>\n",
       "    </tr>\n",
       "    <tr>\n",
       "      <th>12</th>\n",
       "      <td>Europe</td>\n",
       "      <td>Sweden</td>\n",
       "      <td>52925</td>\n",
       "    </tr>\n",
       "    <tr>\n",
       "      <th>13</th>\n",
       "      <td>Europe</td>\n",
       "      <td>Netherlands</td>\n",
       "      <td>48555</td>\n",
       "    </tr>\n",
       "    <tr>\n",
       "      <th>14</th>\n",
       "      <td>Europe</td>\n",
       "      <td>San Marino</td>\n",
       "      <td>47595</td>\n",
       "    </tr>\n",
       "    <tr>\n",
       "      <th>15</th>\n",
       "      <td>Europe</td>\n",
       "      <td>Austria</td>\n",
       "      <td>47347</td>\n",
       "    </tr>\n",
       "    <tr>\n",
       "      <th>16</th>\n",
       "      <td>Europe</td>\n",
       "      <td>Finland</td>\n",
       "      <td>45927</td>\n",
       "    </tr>\n",
       "    <tr>\n",
       "      <th>17</th>\n",
       "      <td>North_America</td>\n",
       "      <td>Canada</td>\n",
       "      <td>45094</td>\n",
       "    </tr>\n",
       "    <tr>\n",
       "      <th>18</th>\n",
       "      <td>Europe</td>\n",
       "      <td>Germany</td>\n",
       "      <td>44769</td>\n",
       "    </tr>\n",
       "    <tr>\n",
       "      <th>19</th>\n",
       "      <td>Europe</td>\n",
       "      <td>Belgium</td>\n",
       "      <td>43488</td>\n",
       "    </tr>\n",
       "    <tr>\n",
       "      <th>20</th>\n",
       "      <td>Oceania</td>\n",
       "      <td>New Zealand</td>\n",
       "      <td>41572</td>\n",
       "    </tr>\n",
       "    <tr>\n",
       "      <th>21</th>\n",
       "      <td>Asia</td>\n",
       "      <td>Israel</td>\n",
       "      <td>40272</td>\n",
       "    </tr>\n",
       "    <tr>\n",
       "      <th>22</th>\n",
       "      <td>Europe</td>\n",
       "      <td>France</td>\n",
       "      <td>39932</td>\n",
       "    </tr>\n",
       "    <tr>\n",
       "      <th>23</th>\n",
       "      <td>Europe</td>\n",
       "      <td>United Kingdom</td>\n",
       "      <td>39800</td>\n",
       "    </tr>\n",
       "    <tr>\n",
       "      <th>24</th>\n",
       "      <td>Asia</td>\n",
       "      <td>Japan</td>\n",
       "      <td>38448</td>\n",
       "    </tr>\n",
       "    <tr>\n",
       "      <th>25</th>\n",
       "      <td>Asia</td>\n",
       "      <td>United Arab Emirates</td>\n",
       "      <td>37732</td>\n",
       "    </tr>\n",
       "    <tr>\n",
       "      <th>26</th>\n",
       "      <td>Europe</td>\n",
       "      <td>Italy</td>\n",
       "      <td>31996</td>\n",
       "    </tr>\n",
       "    <tr>\n",
       "      <th>27</th>\n",
       "      <td>North_America</td>\n",
       "      <td>Bahamas</td>\n",
       "      <td>31660</td>\n",
       "    </tr>\n",
       "    <tr>\n",
       "      <th>28</th>\n",
       "      <td>Asia</td>\n",
       "      <td>South Korea</td>\n",
       "      <td>29938</td>\n",
       "    </tr>\n",
       "    <tr>\n",
       "      <th>29</th>\n",
       "      <td>Europe</td>\n",
       "      <td>Spain</td>\n",
       "      <td>28358</td>\n",
       "    </tr>\n",
       "    <tr>\n",
       "      <th>...</th>\n",
       "      <td>...</td>\n",
       "      <td>...</td>\n",
       "      <td>...</td>\n",
       "    </tr>\n",
       "    <tr>\n",
       "      <th>160</th>\n",
       "      <td>Africa</td>\n",
       "      <td>Senegal</td>\n",
       "      <td>1038</td>\n",
       "    </tr>\n",
       "    <tr>\n",
       "      <th>161</th>\n",
       "      <td>Africa</td>\n",
       "      <td>Tanzania</td>\n",
       "      <td>1034</td>\n",
       "    </tr>\n",
       "    <tr>\n",
       "      <th>162</th>\n",
       "      <td>Africa</td>\n",
       "      <td>Eritrea</td>\n",
       "      <td>980</td>\n",
       "    </tr>\n",
       "    <tr>\n",
       "      <th>163</th>\n",
       "      <td>Africa</td>\n",
       "      <td>Ethiopia</td>\n",
       "      <td>873</td>\n",
       "    </tr>\n",
       "    <tr>\n",
       "      <th>164</th>\n",
       "      <td>Asia</td>\n",
       "      <td>Nepal</td>\n",
       "      <td>834</td>\n",
       "    </tr>\n",
       "    <tr>\n",
       "      <th>165</th>\n",
       "      <td>Africa</td>\n",
       "      <td>Benin</td>\n",
       "      <td>830</td>\n",
       "    </tr>\n",
       "    <tr>\n",
       "      <th>166</th>\n",
       "      <td>Asia</td>\n",
       "      <td>Tajikistan</td>\n",
       "      <td>824</td>\n",
       "    </tr>\n",
       "    <tr>\n",
       "      <th>167</th>\n",
       "      <td>Africa</td>\n",
       "      <td>Mali</td>\n",
       "      <td>811</td>\n",
       "    </tr>\n",
       "    <tr>\n",
       "      <th>168</th>\n",
       "      <td>Africa</td>\n",
       "      <td>Chad</td>\n",
       "      <td>810</td>\n",
       "    </tr>\n",
       "    <tr>\n",
       "      <th>169</th>\n",
       "      <td>Africa</td>\n",
       "      <td>Guinea-Bissau</td>\n",
       "      <td>794</td>\n",
       "    </tr>\n",
       "    <tr>\n",
       "      <th>170</th>\n",
       "      <td>Africa</td>\n",
       "      <td>Comoros</td>\n",
       "      <td>788</td>\n",
       "    </tr>\n",
       "    <tr>\n",
       "      <th>171</th>\n",
       "      <td>North_America</td>\n",
       "      <td>Haiti</td>\n",
       "      <td>784</td>\n",
       "    </tr>\n",
       "    <tr>\n",
       "      <th>172</th>\n",
       "      <td>Africa</td>\n",
       "      <td>Rwanda</td>\n",
       "      <td>772</td>\n",
       "    </tr>\n",
       "    <tr>\n",
       "      <th>173</th>\n",
       "      <td>South_America</td>\n",
       "      <td>Guinea</td>\n",
       "      <td>749</td>\n",
       "    </tr>\n",
       "    <tr>\n",
       "      <th>174</th>\n",
       "      <td>Africa</td>\n",
       "      <td>Liberia</td>\n",
       "      <td>729</td>\n",
       "    </tr>\n",
       "    <tr>\n",
       "      <th>175</th>\n",
       "      <td>Africa</td>\n",
       "      <td>Uganda</td>\n",
       "      <td>699</td>\n",
       "    </tr>\n",
       "    <tr>\n",
       "      <th>176</th>\n",
       "      <td>Africa</td>\n",
       "      <td>Burkina Faso</td>\n",
       "      <td>664</td>\n",
       "    </tr>\n",
       "    <tr>\n",
       "      <th>177</th>\n",
       "      <td>Africa</td>\n",
       "      <td>Togo</td>\n",
       "      <td>611</td>\n",
       "    </tr>\n",
       "    <tr>\n",
       "      <th>178</th>\n",
       "      <td>Asia</td>\n",
       "      <td>Afghanistan</td>\n",
       "      <td>588</td>\n",
       "    </tr>\n",
       "    <tr>\n",
       "      <th>179</th>\n",
       "      <td>Asia</td>\n",
       "      <td>Yemen</td>\n",
       "      <td>551</td>\n",
       "    </tr>\n",
       "    <tr>\n",
       "      <th>180</th>\n",
       "      <td>Africa</td>\n",
       "      <td>Sierra Leone</td>\n",
       "      <td>491</td>\n",
       "    </tr>\n",
       "    <tr>\n",
       "      <th>181</th>\n",
       "      <td>Africa</td>\n",
       "      <td>Gambia, The</td>\n",
       "      <td>480</td>\n",
       "    </tr>\n",
       "    <tr>\n",
       "      <th>182</th>\n",
       "      <td>Africa</td>\n",
       "      <td>Democratic Republic of the Congo</td>\n",
       "      <td>478</td>\n",
       "    </tr>\n",
       "    <tr>\n",
       "      <th>183</th>\n",
       "      <td>Africa</td>\n",
       "      <td>Madagascar</td>\n",
       "      <td>448</td>\n",
       "    </tr>\n",
       "    <tr>\n",
       "      <th>184</th>\n",
       "      <td>Africa</td>\n",
       "      <td>Niger</td>\n",
       "      <td>440</td>\n",
       "    </tr>\n",
       "    <tr>\n",
       "      <th>185</th>\n",
       "      <td>Africa</td>\n",
       "      <td>Mozambique</td>\n",
       "      <td>429</td>\n",
       "    </tr>\n",
       "    <tr>\n",
       "      <th>186</th>\n",
       "      <td>Africa</td>\n",
       "      <td>Central African Republic</td>\n",
       "      <td>387</td>\n",
       "    </tr>\n",
       "    <tr>\n",
       "      <th>187</th>\n",
       "      <td>Africa</td>\n",
       "      <td>Malawi</td>\n",
       "      <td>324</td>\n",
       "    </tr>\n",
       "    <tr>\n",
       "      <th>188</th>\n",
       "      <td>Africa</td>\n",
       "      <td>Burundi</td>\n",
       "      <td>312</td>\n",
       "    </tr>\n",
       "    <tr>\n",
       "      <th>189</th>\n",
       "      <td>Africa</td>\n",
       "      <td>South Sudan</td>\n",
       "      <td>228</td>\n",
       "    </tr>\n",
       "  </tbody>\n",
       "</table>\n",
       "<p>190 rows × 3 columns</p>\n",
       "</div>"
      ],
      "text/plain": [
       "         Continent                  Country_Territory  Per_Cap_GDP_Nom_Dollars\n",
       "0             Asia                              Macau                    77111\n",
       "1             Asia                          Hong Kong                    46080\n",
       "2           Europe                         Luxembourg                   105863\n",
       "3           Europe                        Switzerland                    80637\n",
       "4           Europe                             Norway                    75389\n",
       "5           Europe                            Iceland                    70248\n",
       "6           Europe                            Ireland                    68710\n",
       "7             Asia                              Qatar                    61024\n",
       "8    North_America                      United States                    59792\n",
       "9             Asia                          Singapore                    57713\n",
       "10          Europe                            Denmark                    56630\n",
       "11          Europe                          Australia                    55692\n",
       "12          Europe                             Sweden                    52925\n",
       "13          Europe                        Netherlands                    48555\n",
       "14          Europe                         San Marino                    47595\n",
       "15          Europe                            Austria                    47347\n",
       "16          Europe                            Finland                    45927\n",
       "17   North_America                             Canada                    45094\n",
       "18          Europe                            Germany                    44769\n",
       "19          Europe                            Belgium                    43488\n",
       "20         Oceania                        New Zealand                    41572\n",
       "21            Asia                             Israel                    40272\n",
       "22          Europe                             France                    39932\n",
       "23          Europe                     United Kingdom                    39800\n",
       "24            Asia                              Japan                    38448\n",
       "25            Asia               United Arab Emirates                    37732\n",
       "26          Europe                              Italy                    31996\n",
       "27   North_America                            Bahamas                    31660\n",
       "28            Asia                        South Korea                    29938\n",
       "29          Europe                              Spain                    28358\n",
       "..             ...                                ...                      ...\n",
       "160         Africa                            Senegal                     1038\n",
       "161         Africa                           Tanzania                     1034\n",
       "162         Africa                            Eritrea                      980\n",
       "163         Africa                           Ethiopia                      873\n",
       "164           Asia                              Nepal                      834\n",
       "165         Africa                              Benin                      830\n",
       "166           Asia                         Tajikistan                      824\n",
       "167         Africa                               Mali                      811\n",
       "168         Africa                               Chad                      810\n",
       "169         Africa                      Guinea-Bissau                      794\n",
       "170         Africa                            Comoros                      788\n",
       "171  North_America                              Haiti                      784\n",
       "172         Africa                             Rwanda                      772\n",
       "173  South_America                             Guinea                      749\n",
       "174         Africa                            Liberia                      729\n",
       "175         Africa                             Uganda                      699\n",
       "176         Africa                       Burkina Faso                      664\n",
       "177         Africa                               Togo                      611\n",
       "178           Asia                        Afghanistan                      588\n",
       "179           Asia                              Yemen                      551\n",
       "180         Africa                       Sierra Leone                      491\n",
       "181         Africa                        Gambia, The                      480\n",
       "182         Africa   Democratic Republic of the Congo                      478\n",
       "183         Africa                         Madagascar                      448\n",
       "184         Africa                              Niger                      440\n",
       "185         Africa                         Mozambique                      429\n",
       "186         Africa           Central African Republic                      387\n",
       "187         Africa                             Malawi                      324\n",
       "188         Africa                            Burundi                      312\n",
       "189         Africa                        South Sudan                      228\n",
       "\n",
       "[190 rows x 3 columns]"
      ]
     },
     "execution_count": 3,
     "metadata": {},
     "output_type": "execute_result"
    }
   ],
   "source": [
    "gdp_percountry"
   ]
  },
  {
   "cell_type": "markdown",
   "metadata": {},
   "source": [
    "## 1.0 Intro to Box Plots"
   ]
  },
  {
   "cell_type": "markdown",
   "metadata": {},
   "source": [
    "Method for graphically depicting groups of numerical data through their quartiles\n",
    "\n",
    "*Key Elements of a box-plot:*\n",
    "* May include \"whiskers\" showing variability outside upper and lower quartiles\n",
    "* Outliers may be plotted as individual points\n",
    "* Non parametric in that they show variations in samples of population without making assumptions on distribution\n",
    "* Spacings within the box show \"dispersion\" and \"skewness\" of data\n",
    "* Allow the viewer to visually estimate L-estimators\n",
    "    * Interquartile range\n",
    "    * Midhinge \n",
    "    * Range\n",
    "    * Mid-Range\n",
    "    * Trimean\n",
    "* The band within the box represents the median or second quartile\n",
    "* Width of the individual boxes is generally used to describe the size of the group it represents. Usually the width is the square route of the group size.\n"
   ]
  },
  {
   "cell_type": "markdown",
   "metadata": {},
   "source": [
    "### 1.1 Inventor of the boxplot"
   ]
  },
  {
   "cell_type": "markdown",
   "metadata": {},
   "source": [
    "The boxplot was first created by John Turkey, an American Mathemtician and brother in law of one the key players in our previous project; Frank Anscombe. He introduced in his book *\"Explaratory Data Analysis\"* published in 1977.\n",
    "\n",
    "*\"Among Tukey's most far-reaching contributions was his development of techniques for \"robust analysis,\" an approach to statistics that guards against wrong answers in situations where a randomly chosen sample of data happens to poorly represent the rest of the data set. Tukey also pioneered approaches to exploratory data analysis, developing graphing and plotting methods that are fixtures of introductory statistics texts, and authored many publications on time series analysis and other aspects of digital signal processing that have become central to modern engineering and science.\"* - Obituary of John Tukey - Princeton https://pr.princeton.edu/news/00/q3/0727-tukey.htm\n",
    "\n"
   ]
  },
  {
   "cell_type": "markdown",
   "metadata": {},
   "source": [
    "## 2.0 Key Terminology for a Standard Box Plot"
   ]
  },
  {
   "cell_type": "markdown",
   "metadata": {},
   "source": [
    "A box and whisker plot can be used to display the five number summary of a dataset. I say can, because sometimes the whiskers on the boxplot are used to diplay different information. However, a standard boxplot will show:\n",
    "\n",
    "1. The Minimum value\n",
    "2. The First Quartile\n",
    "3. The Median\n",
    "4. The Third Quartile \n",
    "5. The Maximum\n",
    "\n",
    "I will explain these items below by looking at GDPs for Europe."
   ]
  },
  {
   "cell_type": "code",
   "execution_count": 4,
   "metadata": {},
   "outputs": [
    {
     "data": {
      "text/html": [
       "<div>\n",
       "<style scoped>\n",
       "    .dataframe tbody tr th:only-of-type {\n",
       "        vertical-align: middle;\n",
       "    }\n",
       "\n",
       "    .dataframe tbody tr th {\n",
       "        vertical-align: top;\n",
       "    }\n",
       "\n",
       "    .dataframe thead th {\n",
       "        text-align: right;\n",
       "    }\n",
       "</style>\n",
       "<table border=\"1\" class=\"dataframe\">\n",
       "  <thead>\n",
       "    <tr style=\"text-align: right;\">\n",
       "      <th></th>\n",
       "      <th>Continent</th>\n",
       "      <th>Country_Territory</th>\n",
       "      <th>Per_Cap_GDP_Nom_Dollars</th>\n",
       "    </tr>\n",
       "  </thead>\n",
       "  <tbody>\n",
       "    <tr>\n",
       "      <th>2</th>\n",
       "      <td>Europe</td>\n",
       "      <td>Luxembourg</td>\n",
       "      <td>105863</td>\n",
       "    </tr>\n",
       "    <tr>\n",
       "      <th>3</th>\n",
       "      <td>Europe</td>\n",
       "      <td>Switzerland</td>\n",
       "      <td>80637</td>\n",
       "    </tr>\n",
       "    <tr>\n",
       "      <th>4</th>\n",
       "      <td>Europe</td>\n",
       "      <td>Norway</td>\n",
       "      <td>75389</td>\n",
       "    </tr>\n",
       "    <tr>\n",
       "      <th>5</th>\n",
       "      <td>Europe</td>\n",
       "      <td>Iceland</td>\n",
       "      <td>70248</td>\n",
       "    </tr>\n",
       "    <tr>\n",
       "      <th>6</th>\n",
       "      <td>Europe</td>\n",
       "      <td>Ireland</td>\n",
       "      <td>68710</td>\n",
       "    </tr>\n",
       "    <tr>\n",
       "      <th>10</th>\n",
       "      <td>Europe</td>\n",
       "      <td>Denmark</td>\n",
       "      <td>56630</td>\n",
       "    </tr>\n",
       "    <tr>\n",
       "      <th>11</th>\n",
       "      <td>Europe</td>\n",
       "      <td>Australia</td>\n",
       "      <td>55692</td>\n",
       "    </tr>\n",
       "    <tr>\n",
       "      <th>12</th>\n",
       "      <td>Europe</td>\n",
       "      <td>Sweden</td>\n",
       "      <td>52925</td>\n",
       "    </tr>\n",
       "    <tr>\n",
       "      <th>13</th>\n",
       "      <td>Europe</td>\n",
       "      <td>Netherlands</td>\n",
       "      <td>48555</td>\n",
       "    </tr>\n",
       "    <tr>\n",
       "      <th>14</th>\n",
       "      <td>Europe</td>\n",
       "      <td>San Marino</td>\n",
       "      <td>47595</td>\n",
       "    </tr>\n",
       "    <tr>\n",
       "      <th>15</th>\n",
       "      <td>Europe</td>\n",
       "      <td>Austria</td>\n",
       "      <td>47347</td>\n",
       "    </tr>\n",
       "    <tr>\n",
       "      <th>16</th>\n",
       "      <td>Europe</td>\n",
       "      <td>Finland</td>\n",
       "      <td>45927</td>\n",
       "    </tr>\n",
       "    <tr>\n",
       "      <th>18</th>\n",
       "      <td>Europe</td>\n",
       "      <td>Germany</td>\n",
       "      <td>44769</td>\n",
       "    </tr>\n",
       "    <tr>\n",
       "      <th>19</th>\n",
       "      <td>Europe</td>\n",
       "      <td>Belgium</td>\n",
       "      <td>43488</td>\n",
       "    </tr>\n",
       "    <tr>\n",
       "      <th>22</th>\n",
       "      <td>Europe</td>\n",
       "      <td>France</td>\n",
       "      <td>39932</td>\n",
       "    </tr>\n",
       "    <tr>\n",
       "      <th>23</th>\n",
       "      <td>Europe</td>\n",
       "      <td>United Kingdom</td>\n",
       "      <td>39800</td>\n",
       "    </tr>\n",
       "    <tr>\n",
       "      <th>26</th>\n",
       "      <td>Europe</td>\n",
       "      <td>Italy</td>\n",
       "      <td>31996</td>\n",
       "    </tr>\n",
       "    <tr>\n",
       "      <th>29</th>\n",
       "      <td>Europe</td>\n",
       "      <td>Spain</td>\n",
       "      <td>28358</td>\n",
       "    </tr>\n",
       "    <tr>\n",
       "      <th>32</th>\n",
       "      <td>Europe</td>\n",
       "      <td>Malta</td>\n",
       "      <td>27326</td>\n",
       "    </tr>\n",
       "    <tr>\n",
       "      <th>33</th>\n",
       "      <td>Europe</td>\n",
       "      <td>Cyprus</td>\n",
       "      <td>25380</td>\n",
       "    </tr>\n",
       "    <tr>\n",
       "      <th>36</th>\n",
       "      <td>Europe</td>\n",
       "      <td>Slovenia</td>\n",
       "      <td>23654</td>\n",
       "    </tr>\n",
       "    <tr>\n",
       "      <th>37</th>\n",
       "      <td>Europe</td>\n",
       "      <td>Portugal</td>\n",
       "      <td>21158</td>\n",
       "    </tr>\n",
       "    <tr>\n",
       "      <th>39</th>\n",
       "      <td>Europe</td>\n",
       "      <td>Czech Republic</td>\n",
       "      <td>20401</td>\n",
       "    </tr>\n",
       "    <tr>\n",
       "      <th>40</th>\n",
       "      <td>Europe</td>\n",
       "      <td>Estonia</td>\n",
       "      <td>19735</td>\n",
       "    </tr>\n",
       "    <tr>\n",
       "      <th>41</th>\n",
       "      <td>Europe</td>\n",
       "      <td>Greece</td>\n",
       "      <td>18637</td>\n",
       "    </tr>\n",
       "    <tr>\n",
       "      <th>43</th>\n",
       "      <td>Europe</td>\n",
       "      <td>Slovakia</td>\n",
       "      <td>17655</td>\n",
       "    </tr>\n",
       "    <tr>\n",
       "      <th>47</th>\n",
       "      <td>Europe</td>\n",
       "      <td>Lithuania</td>\n",
       "      <td>16730</td>\n",
       "    </tr>\n",
       "    <tr>\n",
       "      <th>52</th>\n",
       "      <td>Europe</td>\n",
       "      <td>Latvia</td>\n",
       "      <td>15550</td>\n",
       "    </tr>\n",
       "    <tr>\n",
       "      <th>57</th>\n",
       "      <td>Europe</td>\n",
       "      <td>Hungary</td>\n",
       "      <td>14209</td>\n",
       "    </tr>\n",
       "    <tr>\n",
       "      <th>58</th>\n",
       "      <td>Europe</td>\n",
       "      <td>Poland</td>\n",
       "      <td>13821</td>\n",
       "    </tr>\n",
       "    <tr>\n",
       "      <th>59</th>\n",
       "      <td>Europe</td>\n",
       "      <td>Croatia</td>\n",
       "      <td>13271</td>\n",
       "    </tr>\n",
       "    <tr>\n",
       "      <th>63</th>\n",
       "      <td>Europe</td>\n",
       "      <td>Russia</td>\n",
       "      <td>10955</td>\n",
       "    </tr>\n",
       "    <tr>\n",
       "      <th>64</th>\n",
       "      <td>Europe</td>\n",
       "      <td>Romania</td>\n",
       "      <td>10785</td>\n",
       "    </tr>\n",
       "    <tr>\n",
       "      <th>75</th>\n",
       "      <td>Europe</td>\n",
       "      <td>Bulgaria</td>\n",
       "      <td>8077</td>\n",
       "    </tr>\n",
       "    <tr>\n",
       "      <th>77</th>\n",
       "      <td>Europe</td>\n",
       "      <td>Montenegro</td>\n",
       "      <td>7678</td>\n",
       "    </tr>\n",
       "    <tr>\n",
       "      <th>89</th>\n",
       "      <td>Europe</td>\n",
       "      <td>Serbia</td>\n",
       "      <td>5901</td>\n",
       "    </tr>\n",
       "    <tr>\n",
       "      <th>91</th>\n",
       "      <td>Europe</td>\n",
       "      <td>Belarus</td>\n",
       "      <td>5727</td>\n",
       "    </tr>\n",
       "    <tr>\n",
       "      <th>95</th>\n",
       "      <td>Europe</td>\n",
       "      <td>Macedonia</td>\n",
       "      <td>5474</td>\n",
       "    </tr>\n",
       "    <tr>\n",
       "      <th>98</th>\n",
       "      <td>Europe</td>\n",
       "      <td>Bosnia and Herzegovina</td>\n",
       "      <td>5180</td>\n",
       "    </tr>\n",
       "    <tr>\n",
       "      <th>103</th>\n",
       "      <td>Europe</td>\n",
       "      <td>Albania</td>\n",
       "      <td>4544</td>\n",
       "    </tr>\n",
       "    <tr>\n",
       "      <th>113</th>\n",
       "      <td>Europe</td>\n",
       "      <td>Kosovo</td>\n",
       "      <td>3944</td>\n",
       "    </tr>\n",
       "    <tr>\n",
       "      <th>131</th>\n",
       "      <td>Europe</td>\n",
       "      <td>Ukraine</td>\n",
       "      <td>2583</td>\n",
       "    </tr>\n",
       "    <tr>\n",
       "      <th>135</th>\n",
       "      <td>Europe</td>\n",
       "      <td>Moldova</td>\n",
       "      <td>2280</td>\n",
       "    </tr>\n",
       "  </tbody>\n",
       "</table>\n",
       "</div>"
      ],
      "text/plain": [
       "    Continent        Country_Territory  Per_Cap_GDP_Nom_Dollars\n",
       "2      Europe               Luxembourg                   105863\n",
       "3      Europe              Switzerland                    80637\n",
       "4      Europe                   Norway                    75389\n",
       "5      Europe                  Iceland                    70248\n",
       "6      Europe                  Ireland                    68710\n",
       "10     Europe                  Denmark                    56630\n",
       "11     Europe                Australia                    55692\n",
       "12     Europe                   Sweden                    52925\n",
       "13     Europe              Netherlands                    48555\n",
       "14     Europe               San Marino                    47595\n",
       "15     Europe                  Austria                    47347\n",
       "16     Europe                  Finland                    45927\n",
       "18     Europe                  Germany                    44769\n",
       "19     Europe                  Belgium                    43488\n",
       "22     Europe                   France                    39932\n",
       "23     Europe           United Kingdom                    39800\n",
       "26     Europe                    Italy                    31996\n",
       "29     Europe                    Spain                    28358\n",
       "32     Europe                    Malta                    27326\n",
       "33     Europe                   Cyprus                    25380\n",
       "36     Europe                 Slovenia                    23654\n",
       "37     Europe                 Portugal                    21158\n",
       "39     Europe           Czech Republic                    20401\n",
       "40     Europe                  Estonia                    19735\n",
       "41     Europe                   Greece                    18637\n",
       "43     Europe                 Slovakia                    17655\n",
       "47     Europe                Lithuania                    16730\n",
       "52     Europe                   Latvia                    15550\n",
       "57     Europe                  Hungary                    14209\n",
       "58     Europe                   Poland                    13821\n",
       "59     Europe                  Croatia                    13271\n",
       "63     Europe                   Russia                    10955\n",
       "64     Europe                  Romania                    10785\n",
       "75     Europe                 Bulgaria                     8077\n",
       "77     Europe               Montenegro                     7678\n",
       "89     Europe                   Serbia                     5901\n",
       "91     Europe                  Belarus                     5727\n",
       "95     Europe                Macedonia                     5474\n",
       "98     Europe   Bosnia and Herzegovina                     5180\n",
       "103    Europe                  Albania                     4544\n",
       "113    Europe                   Kosovo                     3944\n",
       "131    Europe                  Ukraine                     2583\n",
       "135    Europe                  Moldova                     2280"
      ]
     },
     "execution_count": 4,
     "metadata": {},
     "output_type": "execute_result"
    }
   ],
   "source": [
    "europe_set = gdp_percountry.loc[gdp_percountry[\"Continent\"]==\"Europe\"]\n",
    "europe_set"
   ]
  },
  {
   "cell_type": "markdown",
   "metadata": {},
   "source": [
    "We can get all the information we need to create a boxplot using Pandas *\".describe\"* function, but I will go into greater detail below."
   ]
  },
  {
   "cell_type": "code",
   "execution_count": 5,
   "metadata": {},
   "outputs": [
    {
     "data": {
      "text/html": [
       "<div>\n",
       "<style scoped>\n",
       "    .dataframe tbody tr th:only-of-type {\n",
       "        vertical-align: middle;\n",
       "    }\n",
       "\n",
       "    .dataframe tbody tr th {\n",
       "        vertical-align: top;\n",
       "    }\n",
       "\n",
       "    .dataframe thead th {\n",
       "        text-align: right;\n",
       "    }\n",
       "</style>\n",
       "<table border=\"1\" class=\"dataframe\">\n",
       "  <thead>\n",
       "    <tr style=\"text-align: right;\">\n",
       "      <th></th>\n",
       "      <th>Per_Cap_GDP_Nom_Dollars</th>\n",
       "    </tr>\n",
       "  </thead>\n",
       "  <tbody>\n",
       "    <tr>\n",
       "      <th>count</th>\n",
       "      <td>43.000000</td>\n",
       "    </tr>\n",
       "    <tr>\n",
       "      <th>mean</th>\n",
       "      <td>30337.581395</td>\n",
       "    </tr>\n",
       "    <tr>\n",
       "      <th>std</th>\n",
       "      <td>24854.225944</td>\n",
       "    </tr>\n",
       "    <tr>\n",
       "      <th>min</th>\n",
       "      <td>2280.000000</td>\n",
       "    </tr>\n",
       "    <tr>\n",
       "      <th>25%</th>\n",
       "      <td>10870.000000</td>\n",
       "    </tr>\n",
       "    <tr>\n",
       "      <th>50%</th>\n",
       "      <td>21158.000000</td>\n",
       "    </tr>\n",
       "    <tr>\n",
       "      <th>75%</th>\n",
       "      <td>46637.000000</td>\n",
       "    </tr>\n",
       "    <tr>\n",
       "      <th>max</th>\n",
       "      <td>105863.000000</td>\n",
       "    </tr>\n",
       "  </tbody>\n",
       "</table>\n",
       "</div>"
      ],
      "text/plain": [
       "       Per_Cap_GDP_Nom_Dollars\n",
       "count                43.000000\n",
       "mean              30337.581395\n",
       "std               24854.225944\n",
       "min                2280.000000\n",
       "25%               10870.000000\n",
       "50%               21158.000000\n",
       "75%               46637.000000\n",
       "max              105863.000000"
      ]
     },
     "execution_count": 5,
     "metadata": {},
     "output_type": "execute_result"
    }
   ],
   "source": [
    "europe_set.describe()"
   ]
  },
  {
   "cell_type": "markdown",
   "metadata": {},
   "source": [
    "### 2.1 The Max and Min - The boxplot's Whiskers"
   ]
  },
  {
   "cell_type": "markdown",
   "metadata": {},
   "source": [
    "The Max and Min are the highest and lowest values in the dataset. In a standard box plot these will form the two points that form the \"whiskers\" on each boxplot."
   ]
  },
  {
   "cell_type": "markdown",
   "metadata": {},
   "source": [
    "### 2.2 Finding the Median - The boxplot's \"band\""
   ]
  },
  {
   "cell_type": "markdown",
   "metadata": {},
   "source": [
    "Finding the median is the first step in going on to indentify the Quartiles.\n",
    "\n",
    "If the data you are looking has an even amount of numbers, the median can be found by getting the average of the two middle numbers in the range. \n",
    "\n",
    "In our case, this isn't necessary as there an odd number of countries in Europe. As you can see above, the median GDP for the countries in Europe is $21,158, which is Portugals GDP."
   ]
  },
  {
   "cell_type": "code",
   "execution_count": 6,
   "metadata": {},
   "outputs": [
    {
     "data": {
      "text/html": [
       "<div>\n",
       "<style scoped>\n",
       "    .dataframe tbody tr th:only-of-type {\n",
       "        vertical-align: middle;\n",
       "    }\n",
       "\n",
       "    .dataframe tbody tr th {\n",
       "        vertical-align: top;\n",
       "    }\n",
       "\n",
       "    .dataframe thead th {\n",
       "        text-align: right;\n",
       "    }\n",
       "</style>\n",
       "<table border=\"1\" class=\"dataframe\">\n",
       "  <thead>\n",
       "    <tr style=\"text-align: right;\">\n",
       "      <th></th>\n",
       "      <th>Continent</th>\n",
       "      <th>Country_Territory</th>\n",
       "      <th>Per_Cap_GDP_Nom_Dollars</th>\n",
       "    </tr>\n",
       "  </thead>\n",
       "  <tbody>\n",
       "    <tr>\n",
       "      <th>37</th>\n",
       "      <td>Europe</td>\n",
       "      <td>Portugal</td>\n",
       "      <td>21158</td>\n",
       "    </tr>\n",
       "  </tbody>\n",
       "</table>\n",
       "</div>"
      ],
      "text/plain": [
       "   Continent Country_Territory  Per_Cap_GDP_Nom_Dollars\n",
       "37    Europe          Portugal                    21158"
      ]
     },
     "execution_count": 6,
     "metadata": {},
     "output_type": "execute_result"
    }
   ],
   "source": [
    "median_country = europe_set.loc[europe_set[\"Per_Cap_GDP_Nom_Dollars\"] == 21158]\n",
    "median_country"
   ]
  },
  {
   "cell_type": "markdown",
   "metadata": {},
   "source": [
    "### 2.3 Quartiles & Quartile Range"
   ]
  },
  {
   "cell_type": "markdown",
   "metadata": {},
   "source": [
    "A quartile can be defined as *\"each of four equal groups into which a population of results can be devided\"*. The quartiles are found by first identifing the median or the midpoint value of a dataset, which we have done above. You can then get the quartiles, by finding the medians of the two halves either side of the main median.\n",
    "\n",
    "We can view the halves of the dataset by cutting along the median:"
   ]
  },
  {
   "cell_type": "code",
   "execution_count": 7,
   "metadata": {},
   "outputs": [
    {
     "name": "stdout",
     "output_type": "stream",
     "text": [
      "Upper Half\n"
     ]
    },
    {
     "data": {
      "text/html": [
       "<div>\n",
       "<style scoped>\n",
       "    .dataframe tbody tr th:only-of-type {\n",
       "        vertical-align: middle;\n",
       "    }\n",
       "\n",
       "    .dataframe tbody tr th {\n",
       "        vertical-align: top;\n",
       "    }\n",
       "\n",
       "    .dataframe thead th {\n",
       "        text-align: right;\n",
       "    }\n",
       "</style>\n",
       "<table border=\"1\" class=\"dataframe\">\n",
       "  <thead>\n",
       "    <tr style=\"text-align: right;\">\n",
       "      <th></th>\n",
       "      <th>Continent</th>\n",
       "      <th>Country_Territory</th>\n",
       "      <th>Per_Cap_GDP_Nom_Dollars</th>\n",
       "    </tr>\n",
       "  </thead>\n",
       "  <tbody>\n",
       "    <tr>\n",
       "      <th>2</th>\n",
       "      <td>Europe</td>\n",
       "      <td>Luxembourg</td>\n",
       "      <td>105863</td>\n",
       "    </tr>\n",
       "    <tr>\n",
       "      <th>3</th>\n",
       "      <td>Europe</td>\n",
       "      <td>Switzerland</td>\n",
       "      <td>80637</td>\n",
       "    </tr>\n",
       "    <tr>\n",
       "      <th>4</th>\n",
       "      <td>Europe</td>\n",
       "      <td>Norway</td>\n",
       "      <td>75389</td>\n",
       "    </tr>\n",
       "    <tr>\n",
       "      <th>5</th>\n",
       "      <td>Europe</td>\n",
       "      <td>Iceland</td>\n",
       "      <td>70248</td>\n",
       "    </tr>\n",
       "    <tr>\n",
       "      <th>6</th>\n",
       "      <td>Europe</td>\n",
       "      <td>Ireland</td>\n",
       "      <td>68710</td>\n",
       "    </tr>\n",
       "    <tr>\n",
       "      <th>10</th>\n",
       "      <td>Europe</td>\n",
       "      <td>Denmark</td>\n",
       "      <td>56630</td>\n",
       "    </tr>\n",
       "    <tr>\n",
       "      <th>11</th>\n",
       "      <td>Europe</td>\n",
       "      <td>Australia</td>\n",
       "      <td>55692</td>\n",
       "    </tr>\n",
       "    <tr>\n",
       "      <th>12</th>\n",
       "      <td>Europe</td>\n",
       "      <td>Sweden</td>\n",
       "      <td>52925</td>\n",
       "    </tr>\n",
       "    <tr>\n",
       "      <th>13</th>\n",
       "      <td>Europe</td>\n",
       "      <td>Netherlands</td>\n",
       "      <td>48555</td>\n",
       "    </tr>\n",
       "    <tr>\n",
       "      <th>14</th>\n",
       "      <td>Europe</td>\n",
       "      <td>San Marino</td>\n",
       "      <td>47595</td>\n",
       "    </tr>\n",
       "    <tr>\n",
       "      <th>15</th>\n",
       "      <td>Europe</td>\n",
       "      <td>Austria</td>\n",
       "      <td>47347</td>\n",
       "    </tr>\n",
       "    <tr>\n",
       "      <th>16</th>\n",
       "      <td>Europe</td>\n",
       "      <td>Finland</td>\n",
       "      <td>45927</td>\n",
       "    </tr>\n",
       "    <tr>\n",
       "      <th>18</th>\n",
       "      <td>Europe</td>\n",
       "      <td>Germany</td>\n",
       "      <td>44769</td>\n",
       "    </tr>\n",
       "    <tr>\n",
       "      <th>19</th>\n",
       "      <td>Europe</td>\n",
       "      <td>Belgium</td>\n",
       "      <td>43488</td>\n",
       "    </tr>\n",
       "    <tr>\n",
       "      <th>22</th>\n",
       "      <td>Europe</td>\n",
       "      <td>France</td>\n",
       "      <td>39932</td>\n",
       "    </tr>\n",
       "    <tr>\n",
       "      <th>23</th>\n",
       "      <td>Europe</td>\n",
       "      <td>United Kingdom</td>\n",
       "      <td>39800</td>\n",
       "    </tr>\n",
       "    <tr>\n",
       "      <th>26</th>\n",
       "      <td>Europe</td>\n",
       "      <td>Italy</td>\n",
       "      <td>31996</td>\n",
       "    </tr>\n",
       "    <tr>\n",
       "      <th>29</th>\n",
       "      <td>Europe</td>\n",
       "      <td>Spain</td>\n",
       "      <td>28358</td>\n",
       "    </tr>\n",
       "    <tr>\n",
       "      <th>32</th>\n",
       "      <td>Europe</td>\n",
       "      <td>Malta</td>\n",
       "      <td>27326</td>\n",
       "    </tr>\n",
       "    <tr>\n",
       "      <th>33</th>\n",
       "      <td>Europe</td>\n",
       "      <td>Cyprus</td>\n",
       "      <td>25380</td>\n",
       "    </tr>\n",
       "    <tr>\n",
       "      <th>36</th>\n",
       "      <td>Europe</td>\n",
       "      <td>Slovenia</td>\n",
       "      <td>23654</td>\n",
       "    </tr>\n",
       "  </tbody>\n",
       "</table>\n",
       "</div>"
      ],
      "text/plain": [
       "   Continent Country_Territory  Per_Cap_GDP_Nom_Dollars\n",
       "2     Europe        Luxembourg                   105863\n",
       "3     Europe       Switzerland                    80637\n",
       "4     Europe            Norway                    75389\n",
       "5     Europe           Iceland                    70248\n",
       "6     Europe           Ireland                    68710\n",
       "10    Europe           Denmark                    56630\n",
       "11    Europe         Australia                    55692\n",
       "12    Europe            Sweden                    52925\n",
       "13    Europe       Netherlands                    48555\n",
       "14    Europe        San Marino                    47595\n",
       "15    Europe           Austria                    47347\n",
       "16    Europe           Finland                    45927\n",
       "18    Europe           Germany                    44769\n",
       "19    Europe           Belgium                    43488\n",
       "22    Europe            France                    39932\n",
       "23    Europe    United Kingdom                    39800\n",
       "26    Europe             Italy                    31996\n",
       "29    Europe             Spain                    28358\n",
       "32    Europe             Malta                    27326\n",
       "33    Europe            Cyprus                    25380\n",
       "36    Europe          Slovenia                    23654"
      ]
     },
     "execution_count": 7,
     "metadata": {},
     "output_type": "execute_result"
    }
   ],
   "source": [
    "print(\"Upper Half\")\n",
    "europe_set_uphalf = europe_set.loc[europe_set[\"Per_Cap_GDP_Nom_Dollars\"] > 21158]\n",
    "europe_set_uphalf"
   ]
  },
  {
   "cell_type": "code",
   "execution_count": 8,
   "metadata": {},
   "outputs": [
    {
     "name": "stdout",
     "output_type": "stream",
     "text": [
      "Lower Half\n"
     ]
    },
    {
     "data": {
      "text/html": [
       "<div>\n",
       "<style scoped>\n",
       "    .dataframe tbody tr th:only-of-type {\n",
       "        vertical-align: middle;\n",
       "    }\n",
       "\n",
       "    .dataframe tbody tr th {\n",
       "        vertical-align: top;\n",
       "    }\n",
       "\n",
       "    .dataframe thead th {\n",
       "        text-align: right;\n",
       "    }\n",
       "</style>\n",
       "<table border=\"1\" class=\"dataframe\">\n",
       "  <thead>\n",
       "    <tr style=\"text-align: right;\">\n",
       "      <th></th>\n",
       "      <th>Continent</th>\n",
       "      <th>Country_Territory</th>\n",
       "      <th>Per_Cap_GDP_Nom_Dollars</th>\n",
       "    </tr>\n",
       "  </thead>\n",
       "  <tbody>\n",
       "    <tr>\n",
       "      <th>39</th>\n",
       "      <td>Europe</td>\n",
       "      <td>Czech Republic</td>\n",
       "      <td>20401</td>\n",
       "    </tr>\n",
       "    <tr>\n",
       "      <th>40</th>\n",
       "      <td>Europe</td>\n",
       "      <td>Estonia</td>\n",
       "      <td>19735</td>\n",
       "    </tr>\n",
       "    <tr>\n",
       "      <th>41</th>\n",
       "      <td>Europe</td>\n",
       "      <td>Greece</td>\n",
       "      <td>18637</td>\n",
       "    </tr>\n",
       "    <tr>\n",
       "      <th>43</th>\n",
       "      <td>Europe</td>\n",
       "      <td>Slovakia</td>\n",
       "      <td>17655</td>\n",
       "    </tr>\n",
       "    <tr>\n",
       "      <th>47</th>\n",
       "      <td>Europe</td>\n",
       "      <td>Lithuania</td>\n",
       "      <td>16730</td>\n",
       "    </tr>\n",
       "    <tr>\n",
       "      <th>52</th>\n",
       "      <td>Europe</td>\n",
       "      <td>Latvia</td>\n",
       "      <td>15550</td>\n",
       "    </tr>\n",
       "    <tr>\n",
       "      <th>57</th>\n",
       "      <td>Europe</td>\n",
       "      <td>Hungary</td>\n",
       "      <td>14209</td>\n",
       "    </tr>\n",
       "    <tr>\n",
       "      <th>58</th>\n",
       "      <td>Europe</td>\n",
       "      <td>Poland</td>\n",
       "      <td>13821</td>\n",
       "    </tr>\n",
       "    <tr>\n",
       "      <th>59</th>\n",
       "      <td>Europe</td>\n",
       "      <td>Croatia</td>\n",
       "      <td>13271</td>\n",
       "    </tr>\n",
       "    <tr>\n",
       "      <th>63</th>\n",
       "      <td>Europe</td>\n",
       "      <td>Russia</td>\n",
       "      <td>10955</td>\n",
       "    </tr>\n",
       "    <tr>\n",
       "      <th>64</th>\n",
       "      <td>Europe</td>\n",
       "      <td>Romania</td>\n",
       "      <td>10785</td>\n",
       "    </tr>\n",
       "    <tr>\n",
       "      <th>75</th>\n",
       "      <td>Europe</td>\n",
       "      <td>Bulgaria</td>\n",
       "      <td>8077</td>\n",
       "    </tr>\n",
       "    <tr>\n",
       "      <th>77</th>\n",
       "      <td>Europe</td>\n",
       "      <td>Montenegro</td>\n",
       "      <td>7678</td>\n",
       "    </tr>\n",
       "    <tr>\n",
       "      <th>89</th>\n",
       "      <td>Europe</td>\n",
       "      <td>Serbia</td>\n",
       "      <td>5901</td>\n",
       "    </tr>\n",
       "    <tr>\n",
       "      <th>91</th>\n",
       "      <td>Europe</td>\n",
       "      <td>Belarus</td>\n",
       "      <td>5727</td>\n",
       "    </tr>\n",
       "    <tr>\n",
       "      <th>95</th>\n",
       "      <td>Europe</td>\n",
       "      <td>Macedonia</td>\n",
       "      <td>5474</td>\n",
       "    </tr>\n",
       "    <tr>\n",
       "      <th>98</th>\n",
       "      <td>Europe</td>\n",
       "      <td>Bosnia and Herzegovina</td>\n",
       "      <td>5180</td>\n",
       "    </tr>\n",
       "    <tr>\n",
       "      <th>103</th>\n",
       "      <td>Europe</td>\n",
       "      <td>Albania</td>\n",
       "      <td>4544</td>\n",
       "    </tr>\n",
       "    <tr>\n",
       "      <th>113</th>\n",
       "      <td>Europe</td>\n",
       "      <td>Kosovo</td>\n",
       "      <td>3944</td>\n",
       "    </tr>\n",
       "    <tr>\n",
       "      <th>131</th>\n",
       "      <td>Europe</td>\n",
       "      <td>Ukraine</td>\n",
       "      <td>2583</td>\n",
       "    </tr>\n",
       "    <tr>\n",
       "      <th>135</th>\n",
       "      <td>Europe</td>\n",
       "      <td>Moldova</td>\n",
       "      <td>2280</td>\n",
       "    </tr>\n",
       "  </tbody>\n",
       "</table>\n",
       "</div>"
      ],
      "text/plain": [
       "    Continent        Country_Territory  Per_Cap_GDP_Nom_Dollars\n",
       "39     Europe           Czech Republic                    20401\n",
       "40     Europe                  Estonia                    19735\n",
       "41     Europe                   Greece                    18637\n",
       "43     Europe                 Slovakia                    17655\n",
       "47     Europe                Lithuania                    16730\n",
       "52     Europe                   Latvia                    15550\n",
       "57     Europe                  Hungary                    14209\n",
       "58     Europe                   Poland                    13821\n",
       "59     Europe                  Croatia                    13271\n",
       "63     Europe                   Russia                    10955\n",
       "64     Europe                  Romania                    10785\n",
       "75     Europe                 Bulgaria                     8077\n",
       "77     Europe               Montenegro                     7678\n",
       "89     Europe                   Serbia                     5901\n",
       "91     Europe                  Belarus                     5727\n",
       "95     Europe                Macedonia                     5474\n",
       "98     Europe   Bosnia and Herzegovina                     5180\n",
       "103    Europe                  Albania                     4544\n",
       "113    Europe                   Kosovo                     3944\n",
       "131    Europe                  Ukraine                     2583\n",
       "135    Europe                  Moldova                     2280"
      ]
     },
     "execution_count": 8,
     "metadata": {},
     "output_type": "execute_result"
    }
   ],
   "source": [
    "print(\"Lower Half\")\n",
    "europe_set_lowerhalf = europe_set.loc[europe_set[\"Per_Cap_GDP_Nom_Dollars\"] < 21158]\n",
    "europe_set_lowerhalf"
   ]
  },
  {
   "cell_type": "markdown",
   "metadata": {},
   "source": [
    "#### 2.3.1 First and Third Quartiles - The top and bottom of the box"
   ]
  },
  {
   "cell_type": "markdown",
   "metadata": {},
   "source": [
    "The First and Third Quartiles can be found by getting the medians of the values above and below the median of the entire range. The First Quartile is the median of the Lower Half of the data. The Third Quartile is the median of the Upper Half.\n",
    "\n",
    "We already got these numbers using the Pandas \".describe\" function above. The list of countries in the Third and First quartiles are shown below."
   ]
  },
  {
   "cell_type": "code",
   "execution_count": 9,
   "metadata": {},
   "outputs": [
    {
     "name": "stdout",
     "output_type": "stream",
     "text": [
      "Third Quartile\n"
     ]
    },
    {
     "data": {
      "text/html": [
       "<div>\n",
       "<style scoped>\n",
       "    .dataframe tbody tr th:only-of-type {\n",
       "        vertical-align: middle;\n",
       "    }\n",
       "\n",
       "    .dataframe tbody tr th {\n",
       "        vertical-align: top;\n",
       "    }\n",
       "\n",
       "    .dataframe thead th {\n",
       "        text-align: right;\n",
       "    }\n",
       "</style>\n",
       "<table border=\"1\" class=\"dataframe\">\n",
       "  <thead>\n",
       "    <tr style=\"text-align: right;\">\n",
       "      <th></th>\n",
       "      <th>Continent</th>\n",
       "      <th>Country_Territory</th>\n",
       "      <th>Per_Cap_GDP_Nom_Dollars</th>\n",
       "    </tr>\n",
       "  </thead>\n",
       "  <tbody>\n",
       "    <tr>\n",
       "      <th>2</th>\n",
       "      <td>Europe</td>\n",
       "      <td>Luxembourg</td>\n",
       "      <td>105863</td>\n",
       "    </tr>\n",
       "    <tr>\n",
       "      <th>3</th>\n",
       "      <td>Europe</td>\n",
       "      <td>Switzerland</td>\n",
       "      <td>80637</td>\n",
       "    </tr>\n",
       "    <tr>\n",
       "      <th>4</th>\n",
       "      <td>Europe</td>\n",
       "      <td>Norway</td>\n",
       "      <td>75389</td>\n",
       "    </tr>\n",
       "    <tr>\n",
       "      <th>5</th>\n",
       "      <td>Europe</td>\n",
       "      <td>Iceland</td>\n",
       "      <td>70248</td>\n",
       "    </tr>\n",
       "    <tr>\n",
       "      <th>6</th>\n",
       "      <td>Europe</td>\n",
       "      <td>Ireland</td>\n",
       "      <td>68710</td>\n",
       "    </tr>\n",
       "    <tr>\n",
       "      <th>10</th>\n",
       "      <td>Europe</td>\n",
       "      <td>Denmark</td>\n",
       "      <td>56630</td>\n",
       "    </tr>\n",
       "    <tr>\n",
       "      <th>11</th>\n",
       "      <td>Europe</td>\n",
       "      <td>Australia</td>\n",
       "      <td>55692</td>\n",
       "    </tr>\n",
       "    <tr>\n",
       "      <th>12</th>\n",
       "      <td>Europe</td>\n",
       "      <td>Sweden</td>\n",
       "      <td>52925</td>\n",
       "    </tr>\n",
       "    <tr>\n",
       "      <th>13</th>\n",
       "      <td>Europe</td>\n",
       "      <td>Netherlands</td>\n",
       "      <td>48555</td>\n",
       "    </tr>\n",
       "    <tr>\n",
       "      <th>14</th>\n",
       "      <td>Europe</td>\n",
       "      <td>San Marino</td>\n",
       "      <td>47595</td>\n",
       "    </tr>\n",
       "    <tr>\n",
       "      <th>15</th>\n",
       "      <td>Europe</td>\n",
       "      <td>Austria</td>\n",
       "      <td>47347</td>\n",
       "    </tr>\n",
       "  </tbody>\n",
       "</table>\n",
       "</div>"
      ],
      "text/plain": [
       "   Continent Country_Territory  Per_Cap_GDP_Nom_Dollars\n",
       "2     Europe        Luxembourg                   105863\n",
       "3     Europe       Switzerland                    80637\n",
       "4     Europe            Norway                    75389\n",
       "5     Europe           Iceland                    70248\n",
       "6     Europe           Ireland                    68710\n",
       "10    Europe           Denmark                    56630\n",
       "11    Europe         Australia                    55692\n",
       "12    Europe            Sweden                    52925\n",
       "13    Europe       Netherlands                    48555\n",
       "14    Europe        San Marino                    47595\n",
       "15    Europe           Austria                    47347"
      ]
     },
     "execution_count": 9,
     "metadata": {},
     "output_type": "execute_result"
    }
   ],
   "source": [
    "print(\"Third Quartile\")\n",
    "europe_thirdQ = europe_set.loc[europe_set[\"Per_Cap_GDP_Nom_Dollars\"] >= 46637]\n",
    "europe_thirdQ"
   ]
  },
  {
   "cell_type": "code",
   "execution_count": 10,
   "metadata": {},
   "outputs": [
    {
     "name": "stdout",
     "output_type": "stream",
     "text": [
      "First Quartile\n"
     ]
    },
    {
     "data": {
      "text/html": [
       "<div>\n",
       "<style scoped>\n",
       "    .dataframe tbody tr th:only-of-type {\n",
       "        vertical-align: middle;\n",
       "    }\n",
       "\n",
       "    .dataframe tbody tr th {\n",
       "        vertical-align: top;\n",
       "    }\n",
       "\n",
       "    .dataframe thead th {\n",
       "        text-align: right;\n",
       "    }\n",
       "</style>\n",
       "<table border=\"1\" class=\"dataframe\">\n",
       "  <thead>\n",
       "    <tr style=\"text-align: right;\">\n",
       "      <th></th>\n",
       "      <th>Continent</th>\n",
       "      <th>Country_Territory</th>\n",
       "      <th>Per_Cap_GDP_Nom_Dollars</th>\n",
       "    </tr>\n",
       "  </thead>\n",
       "  <tbody>\n",
       "    <tr>\n",
       "      <th>64</th>\n",
       "      <td>Europe</td>\n",
       "      <td>Romania</td>\n",
       "      <td>10785</td>\n",
       "    </tr>\n",
       "    <tr>\n",
       "      <th>75</th>\n",
       "      <td>Europe</td>\n",
       "      <td>Bulgaria</td>\n",
       "      <td>8077</td>\n",
       "    </tr>\n",
       "    <tr>\n",
       "      <th>77</th>\n",
       "      <td>Europe</td>\n",
       "      <td>Montenegro</td>\n",
       "      <td>7678</td>\n",
       "    </tr>\n",
       "    <tr>\n",
       "      <th>89</th>\n",
       "      <td>Europe</td>\n",
       "      <td>Serbia</td>\n",
       "      <td>5901</td>\n",
       "    </tr>\n",
       "    <tr>\n",
       "      <th>91</th>\n",
       "      <td>Europe</td>\n",
       "      <td>Belarus</td>\n",
       "      <td>5727</td>\n",
       "    </tr>\n",
       "    <tr>\n",
       "      <th>95</th>\n",
       "      <td>Europe</td>\n",
       "      <td>Macedonia</td>\n",
       "      <td>5474</td>\n",
       "    </tr>\n",
       "    <tr>\n",
       "      <th>98</th>\n",
       "      <td>Europe</td>\n",
       "      <td>Bosnia and Herzegovina</td>\n",
       "      <td>5180</td>\n",
       "    </tr>\n",
       "    <tr>\n",
       "      <th>103</th>\n",
       "      <td>Europe</td>\n",
       "      <td>Albania</td>\n",
       "      <td>4544</td>\n",
       "    </tr>\n",
       "    <tr>\n",
       "      <th>113</th>\n",
       "      <td>Europe</td>\n",
       "      <td>Kosovo</td>\n",
       "      <td>3944</td>\n",
       "    </tr>\n",
       "    <tr>\n",
       "      <th>131</th>\n",
       "      <td>Europe</td>\n",
       "      <td>Ukraine</td>\n",
       "      <td>2583</td>\n",
       "    </tr>\n",
       "    <tr>\n",
       "      <th>135</th>\n",
       "      <td>Europe</td>\n",
       "      <td>Moldova</td>\n",
       "      <td>2280</td>\n",
       "    </tr>\n",
       "  </tbody>\n",
       "</table>\n",
       "</div>"
      ],
      "text/plain": [
       "    Continent        Country_Territory  Per_Cap_GDP_Nom_Dollars\n",
       "64     Europe                  Romania                    10785\n",
       "75     Europe                 Bulgaria                     8077\n",
       "77     Europe               Montenegro                     7678\n",
       "89     Europe                   Serbia                     5901\n",
       "91     Europe                  Belarus                     5727\n",
       "95     Europe                Macedonia                     5474\n",
       "98     Europe   Bosnia and Herzegovina                     5180\n",
       "103    Europe                  Albania                     4544\n",
       "113    Europe                   Kosovo                     3944\n",
       "131    Europe                  Ukraine                     2583\n",
       "135    Europe                  Moldova                     2280"
      ]
     },
     "execution_count": 10,
     "metadata": {},
     "output_type": "execute_result"
    }
   ],
   "source": [
    "print(\"First Quartile\")\n",
    "europe_firstQ = europe_set.loc[europe_set[\"Per_Cap_GDP_Nom_Dollars\"] <= 10870]\n",
    "europe_firstQ"
   ]
  },
  {
   "cell_type": "markdown",
   "metadata": {},
   "source": [
    "#### 2.3.2 Interquartile Range - The lenght of the box"
   ]
  },
  {
   "cell_type": "markdown",
   "metadata": {},
   "source": [
    "The Interquartile Range is the data between the First and Third Quartile. This is basically the middle 50% of the data and makes up the length of the box. I say length, becasue width can be based on other factors. See below:"
   ]
  },
  {
   "cell_type": "code",
   "execution_count": 11,
   "metadata": {},
   "outputs": [
    {
     "name": "stdout",
     "output_type": "stream",
     "text": [
      "Inter Quartile Range\n"
     ]
    },
    {
     "data": {
      "text/html": [
       "<div>\n",
       "<style scoped>\n",
       "    .dataframe tbody tr th:only-of-type {\n",
       "        vertical-align: middle;\n",
       "    }\n",
       "\n",
       "    .dataframe tbody tr th {\n",
       "        vertical-align: top;\n",
       "    }\n",
       "\n",
       "    .dataframe thead th {\n",
       "        text-align: right;\n",
       "    }\n",
       "</style>\n",
       "<table border=\"1\" class=\"dataframe\">\n",
       "  <thead>\n",
       "    <tr style=\"text-align: right;\">\n",
       "      <th></th>\n",
       "      <th>Continent</th>\n",
       "      <th>Country_Territory</th>\n",
       "      <th>Per_Cap_GDP_Nom_Dollars</th>\n",
       "    </tr>\n",
       "  </thead>\n",
       "  <tbody>\n",
       "    <tr>\n",
       "      <th>16</th>\n",
       "      <td>Europe</td>\n",
       "      <td>Finland</td>\n",
       "      <td>45927</td>\n",
       "    </tr>\n",
       "    <tr>\n",
       "      <th>18</th>\n",
       "      <td>Europe</td>\n",
       "      <td>Germany</td>\n",
       "      <td>44769</td>\n",
       "    </tr>\n",
       "    <tr>\n",
       "      <th>19</th>\n",
       "      <td>Europe</td>\n",
       "      <td>Belgium</td>\n",
       "      <td>43488</td>\n",
       "    </tr>\n",
       "    <tr>\n",
       "      <th>22</th>\n",
       "      <td>Europe</td>\n",
       "      <td>France</td>\n",
       "      <td>39932</td>\n",
       "    </tr>\n",
       "    <tr>\n",
       "      <th>23</th>\n",
       "      <td>Europe</td>\n",
       "      <td>United Kingdom</td>\n",
       "      <td>39800</td>\n",
       "    </tr>\n",
       "    <tr>\n",
       "      <th>26</th>\n",
       "      <td>Europe</td>\n",
       "      <td>Italy</td>\n",
       "      <td>31996</td>\n",
       "    </tr>\n",
       "    <tr>\n",
       "      <th>29</th>\n",
       "      <td>Europe</td>\n",
       "      <td>Spain</td>\n",
       "      <td>28358</td>\n",
       "    </tr>\n",
       "    <tr>\n",
       "      <th>32</th>\n",
       "      <td>Europe</td>\n",
       "      <td>Malta</td>\n",
       "      <td>27326</td>\n",
       "    </tr>\n",
       "    <tr>\n",
       "      <th>33</th>\n",
       "      <td>Europe</td>\n",
       "      <td>Cyprus</td>\n",
       "      <td>25380</td>\n",
       "    </tr>\n",
       "    <tr>\n",
       "      <th>36</th>\n",
       "      <td>Europe</td>\n",
       "      <td>Slovenia</td>\n",
       "      <td>23654</td>\n",
       "    </tr>\n",
       "    <tr>\n",
       "      <th>37</th>\n",
       "      <td>Europe</td>\n",
       "      <td>Portugal</td>\n",
       "      <td>21158</td>\n",
       "    </tr>\n",
       "    <tr>\n",
       "      <th>39</th>\n",
       "      <td>Europe</td>\n",
       "      <td>Czech Republic</td>\n",
       "      <td>20401</td>\n",
       "    </tr>\n",
       "    <tr>\n",
       "      <th>40</th>\n",
       "      <td>Europe</td>\n",
       "      <td>Estonia</td>\n",
       "      <td>19735</td>\n",
       "    </tr>\n",
       "    <tr>\n",
       "      <th>41</th>\n",
       "      <td>Europe</td>\n",
       "      <td>Greece</td>\n",
       "      <td>18637</td>\n",
       "    </tr>\n",
       "    <tr>\n",
       "      <th>43</th>\n",
       "      <td>Europe</td>\n",
       "      <td>Slovakia</td>\n",
       "      <td>17655</td>\n",
       "    </tr>\n",
       "    <tr>\n",
       "      <th>47</th>\n",
       "      <td>Europe</td>\n",
       "      <td>Lithuania</td>\n",
       "      <td>16730</td>\n",
       "    </tr>\n",
       "    <tr>\n",
       "      <th>52</th>\n",
       "      <td>Europe</td>\n",
       "      <td>Latvia</td>\n",
       "      <td>15550</td>\n",
       "    </tr>\n",
       "    <tr>\n",
       "      <th>57</th>\n",
       "      <td>Europe</td>\n",
       "      <td>Hungary</td>\n",
       "      <td>14209</td>\n",
       "    </tr>\n",
       "    <tr>\n",
       "      <th>58</th>\n",
       "      <td>Europe</td>\n",
       "      <td>Poland</td>\n",
       "      <td>13821</td>\n",
       "    </tr>\n",
       "    <tr>\n",
       "      <th>59</th>\n",
       "      <td>Europe</td>\n",
       "      <td>Croatia</td>\n",
       "      <td>13271</td>\n",
       "    </tr>\n",
       "    <tr>\n",
       "      <th>63</th>\n",
       "      <td>Europe</td>\n",
       "      <td>Russia</td>\n",
       "      <td>10955</td>\n",
       "    </tr>\n",
       "  </tbody>\n",
       "</table>\n",
       "</div>"
      ],
      "text/plain": [
       "   Continent Country_Territory  Per_Cap_GDP_Nom_Dollars\n",
       "16    Europe           Finland                    45927\n",
       "18    Europe           Germany                    44769\n",
       "19    Europe           Belgium                    43488\n",
       "22    Europe            France                    39932\n",
       "23    Europe    United Kingdom                    39800\n",
       "26    Europe             Italy                    31996\n",
       "29    Europe             Spain                    28358\n",
       "32    Europe             Malta                    27326\n",
       "33    Europe            Cyprus                    25380\n",
       "36    Europe          Slovenia                    23654\n",
       "37    Europe          Portugal                    21158\n",
       "39    Europe    Czech Republic                    20401\n",
       "40    Europe           Estonia                    19735\n",
       "41    Europe            Greece                    18637\n",
       "43    Europe          Slovakia                    17655\n",
       "47    Europe         Lithuania                    16730\n",
       "52    Europe            Latvia                    15550\n",
       "57    Europe           Hungary                    14209\n",
       "58    Europe            Poland                    13821\n",
       "59    Europe           Croatia                    13271\n",
       "63    Europe            Russia                    10955"
      ]
     },
     "execution_count": 11,
     "metadata": {},
     "output_type": "execute_result"
    }
   ],
   "source": [
    "print(\"Inter Quartile Range\")\n",
    "europe_IQR = europe_set.query(\"Per_Cap_GDP_Nom_Dollars > 10870 & Per_Cap_GDP_Nom_Dollars < 46637\")\n",
    "europe_IQR"
   ]
  },
  {
   "cell_type": "markdown",
   "metadata": {},
   "source": [
    "### 2.4 Bring this all together"
   ]
  },
  {
   "cell_type": "markdown",
   "metadata": {},
   "source": [
    "Below I have included a basic boxplot for our Europe dataset. In this example I have forced the graph to use the \"range\" (the max and min values) as the points for the whiskers. "
   ]
  },
  {
   "cell_type": "code",
   "execution_count": 50,
   "metadata": {},
   "outputs": [
    {
     "data": {
      "text/plain": [
       "{'whiskers': [<matplotlib.lines.Line2D at 0x2308e02cc88>,\n",
       "  <matplotlib.lines.Line2D at 0x2308e038160>],\n",
       " 'caps': [<matplotlib.lines.Line2D at 0x2308e038588>,\n",
       "  <matplotlib.lines.Line2D at 0x2308e0389b0>],\n",
       " 'boxes': [<matplotlib.lines.Line2D at 0x2308e02cb38>],\n",
       " 'medians': [<matplotlib.lines.Line2D at 0x2308e038dd8>],\n",
       " 'fliers': [<matplotlib.lines.Line2D at 0x2308e03f240>],\n",
       " 'means': []}"
      ]
     },
     "execution_count": 50,
     "metadata": {},
     "output_type": "execute_result"
    },
    {
     "data": {
      "image/png": "[encoded data removed]",
      "text/plain": [
       "<Figure size 432x288 with 1 Axes>"
      ]
     },
     "metadata": {
      "needs_background": "light"
     },
     "output_type": "display_data"
    }
   ],
   "source": [
    "plt.boxplot(x=europe_set[\"Per_Cap_GDP_Nom_Dollars\"], whis=\"range\")\n"
   ]
  },
  {
   "cell_type": "markdown",
   "metadata": {},
   "source": [
    "In the above we can see that the our top whisker and bottom whisker line up up the max and min values(105,863 & 2,280).\n",
    "\n",
    "The top of the box and bottom of the box are the third and first quartile (46,637 & 10,870).\n",
    "\n",
    "The band across the middle lines up with the median value (21,158).\n",
    "\n",
    "Finally, we can see that as the median number is much closer to the min than the max based on the position of the band. I will discuss what this indicates in more detail when looking at skew and kurtosis below."
   ]
  },
  {
   "cell_type": "markdown",
   "metadata": {},
   "source": [
    "## 3.0 Boxplot Variations and their Uses"
   ]
  },
  {
   "cell_type": "markdown",
   "metadata": {},
   "source": [
    "There are number variations that can be made on the standard boxplot. In this section we will look at four main areas:\n",
    "\n",
    "1. Different uses for Whiskers\n",
    "2. Plotting outliers and the spread of individual datapoints\n",
    "3. The use of Width\n",
    "4. Notched Boxes"
   ]
  },
  {
   "cell_type": "markdown",
   "metadata": {},
   "source": [
    "### 3.1 Whisker Variations"
   ]
  },
  {
   "cell_type": "markdown",
   "metadata": {},
   "source": [
    "There are several different things tha the whiskers on a boxplot can represent. I have already shown one use above, the min and max numbers in the dataset. \n",
    "\n",
    "Other uses for the whiskers include:\n",
    "1. The lowest and highest datapoint within 1.5 times the length of the Interquartile range (the length of the box) from the first and third quartile.\n",
    "\n",
    "2. One standard deviation above and below the mean of the data.\n",
    "\n",
    "3. The 9th percentile and 91st percentile, or the 2nd percentile and 98th percentile.\n",
    "\n",
    "\n",
    "We will look at each of these in turn."
   ]
  },
  {
   "cell_type": "markdown",
   "metadata": {},
   "source": [
    "#### 3.1.1 The Tukey Boxplot"
   ]
  },
  {
   "cell_type": "markdown",
   "metadata": {},
   "source": [
    "When John Tukey first created the boxplot the whiskers were used to show the first of the options in our list above. This has lead to this style being referred to as the Tukey Boxplot.\n",
    "\n",
    "There is not statistical significance to values that are 1.5 the IQR above or below the first and third quartiles. Tukey simply chose this as the limits for his whiskers when he created the plot. They are intended to mark off the reasonable values for the outliers.\n",
    "\n",
    "If we continue to use our Europe dataset we can find the limits of the whiskers in this case by first calculating the IQR. "
   ]
  },
  {
   "cell_type": "code",
   "execution_count": 13,
   "metadata": {},
   "outputs": [
    {
     "data": {
      "text/plain": [
       "35767"
      ]
     },
     "execution_count": 13,
     "metadata": {},
     "output_type": "execute_result"
    }
   ],
   "source": [
    "Q1_EU = 10870\n",
    "Q3_EU = 46637\n",
    "IQR_EU = Q3_EU - Q1_EU\n",
    "IQR_EU"
   ]
  },
  {
   "cell_type": "code",
   "execution_count": 22,
   "metadata": {},
   "outputs": [
    {
     "data": {
      "text/plain": [
       "53650.5"
      ]
     },
     "execution_count": 22,
     "metadata": {},
     "output_type": "execute_result"
    }
   ],
   "source": [
    "Whisker_length = IQR_EU * 1.5\n",
    "Whisker_length"
   ]
  },
  {
   "cell_type": "code",
   "execution_count": 26,
   "metadata": {},
   "outputs": [
    {
     "name": "stdout",
     "output_type": "stream",
     "text": [
      "100287.5\n",
      "-42780.5\n"
     ]
    }
   ],
   "source": [
    "UpperWhisker = Q3_EU + Whisker_length\n",
    "LowerWhisker = Q1_EU - Whisker_length\n",
    "print(UpperWhisker)\n",
    "print(LowerWhisker)"
   ]
  },
  {
   "cell_type": "markdown",
   "metadata": {},
   "source": [
    "As we can see, our whisker limits are 100,287.5 and -42780.5 However, these are not where this whiskers will be set on the plot. Instead the whiskers stop at the last datapoint / value less than the upper whisker value and greater than the lower whisker value.\n",
    "\n",
    "So the upper whisker for Europe is Switzerland at 80,637 while our lower whisker is Moldova at 2,280. \n",
    "\n",
    "See an example graph below, where I have set the whiskers to 1.5 times the IQR through the *\"whis\"* parameter in matplotlib."
   ]
  },
  {
   "cell_type": "code",
   "execution_count": 29,
   "metadata": {},
   "outputs": [
    {
     "data": {
      "text/plain": [
       "{'whiskers': [<matplotlib.lines.Line2D at 0x2308dc35c88>,\n",
       "  <matplotlib.lines.Line2D at 0x2308dc3e160>],\n",
       " 'caps': [<matplotlib.lines.Line2D at 0x2308dc3e588>,\n",
       "  <matplotlib.lines.Line2D at 0x2308dc3e9b0>],\n",
       " 'boxes': [<matplotlib.lines.Line2D at 0x2308dc35b38>],\n",
       " 'medians': [<matplotlib.lines.Line2D at 0x2308dc3edd8>],\n",
       " 'fliers': [],\n",
       " 'means': []}"
      ]
     },
     "execution_count": 29,
     "metadata": {},
     "output_type": "execute_result"
    },
    {
     "data": {
      "image/png": "[encoded data removed]",
      "text/plain": [
       "<Figure size 432x288 with 1 Axes>"
      ]
     },
     "metadata": {
      "needs_background": "light"
     },
     "output_type": "display_data"
    }
   ],
   "source": [
    "plt.boxplot(x=europe_set[\"Per_Cap_GDP_Nom_Dollars\"], whis=1.5, showfliers=False)"
   ]
  },
  {
   "cell_type": "markdown",
   "metadata": {},
   "source": [
    "#### 3.1.2 Standard Deviation Whisker"
   ]
  },
  {
   "cell_type": "markdown",
   "metadata": {},
   "source": [
    "Another type of whisker that can be used is measured by finding the figure for what is one standard deviation above and below the mean of the dataset.\n",
    "\n",
    "The **Standard Deviation** allows us to see how spread out the data is from the average. A low standard deviation indicates values are clustered around the mean while a high standard deviation indicates a wider spread.\n",
    "\n",
    "So in order to find our whiskers we need to find the mean and standard deviation. "
   ]
  },
  {
   "cell_type": "code",
   "execution_count": 32,
   "metadata": {},
   "outputs": [
    {
     "data": {
      "text/plain": [
       "30337.581395348836"
      ]
     },
     "execution_count": 32,
     "metadata": {},
     "output_type": "execute_result"
    }
   ],
   "source": [
    "mean_EU = europe_set[\"Per_Cap_GDP_Nom_Dollars\"].mean()\n",
    "mean_EU"
   ]
  },
  {
   "cell_type": "code",
   "execution_count": 31,
   "metadata": {},
   "outputs": [
    {
     "data": {
      "text/plain": [
       "24854.225944430225"
      ]
     },
     "execution_count": 31,
     "metadata": {},
     "output_type": "execute_result"
    }
   ],
   "source": [
    "std_dev_EU = europe_set[\"Per_Cap_GDP_Nom_Dollars\"].std()\n",
    "std_dev_EU"
   ]
  },
  {
   "cell_type": "markdown",
   "metadata": {},
   "source": [
    "Using the above values we can calculate our upper and lower whisker values."
   ]
  },
  {
   "cell_type": "code",
   "execution_count": 33,
   "metadata": {},
   "outputs": [
    {
     "name": "stdout",
     "output_type": "stream",
     "text": [
      "55191.80733977906\n",
      "5483.355450918611\n"
     ]
    }
   ],
   "source": [
    "Upper_sdev_whisk = std_dev_EU + mean_EU\n",
    "Lower_sdev_whisk = mean_EU - std_dev_EU\n",
    "print(Upper_sdev_whisk)\n",
    "print(Lower_sdev_whisk)"
   ]
  },
  {
   "cell_type": "markdown",
   "metadata": {},
   "source": [
    "None of the standard python graphing tools allow for this style of whisker to be specified, but you could calculate these figures difference from the IQR and then user Matplotlib to chart."
   ]
  },
  {
   "cell_type": "markdown",
   "metadata": {},
   "source": [
    "#### 3.1.3 Percentile Whiskers"
   ]
  },
  {
   "cell_type": "markdown",
   "metadata": {},
   "source": [
    "Whiskers can also be based on lower and upper percentile figures, most commonly the 9th percentile and 91st percentile, or the 2nd percentile and 98th percentile.\n",
    "\n",
    "A **Percentile** is a number derived by dividing a population into 100 groups based on a the values of a particular variable.\n",
    "\n",
    "For example the 9th percentile for GDP would be the number under which 9% of countries existing. The 91st percentile would be the number under which 91% of countries exist. \n",
    "\n",
    "We can use Numpy to calculate our percentile values, but as with the standard deviation, none of the Python graphing tools allow for using percentiles for whiskers as standard.\n"
   ]
  },
  {
   "cell_type": "code",
   "execution_count": 41,
   "metadata": {},
   "outputs": [
    {
     "data": {
      "text/plain": [
       "69048.36"
      ]
     },
     "execution_count": 41,
     "metadata": {},
     "output_type": "execute_result"
    }
   ],
   "source": [
    "ninty_first = np.percentile(europe_set[\"Per_Cap_GDP_Nom_Dollars\"].values, 91)\n",
    "ninty_first"
   ]
  },
  {
   "cell_type": "code",
   "execution_count": 43,
   "metadata": {},
   "outputs": [
    {
     "data": {
      "text/plain": [
       "5040.08"
      ]
     },
     "execution_count": 43,
     "metadata": {},
     "output_type": "execute_result"
    }
   ],
   "source": [
    "ninth = np.percentile(europe_set[\"Per_Cap_GDP_Nom_Dollars\"].values, 9)\n",
    "ninth"
   ]
  },
  {
   "cell_type": "markdown",
   "metadata": {},
   "source": [
    "### 3.2 Plotting Outliers and the Spread of Data"
   ]
  },
  {
   "cell_type": "markdown",
   "metadata": {},
   "source": [
    "One of the uses for whiskers is to identify the cut-off point where data points should be recorded as outliers. Outliers are usually plotted as individual datapoint in the boxplot. \n",
    "\n",
    "For example in the Tukey Boxplot I specifically told Matplotlib to not include the outlier beyond the whiskers using the *\"showfliers\"* parameter. If I remove this, you can see that Luxemburg will be identified as an outlier as it is beyond the upper whisker. There are no lower outliers because the whisker is the lowest value in the dataset (Moldova)"
   ]
  },
  {
   "cell_type": "code",
   "execution_count": 44,
   "metadata": {},
   "outputs": [
    {
     "data": {
      "text/plain": [
       "{'whiskers': [<matplotlib.lines.Line2D at 0x2308dc9fa20>,\n",
       "  <matplotlib.lines.Line2D at 0x2308dc9feb8>],\n",
       " 'caps': [<matplotlib.lines.Line2D at 0x2308dca8320>,\n",
       "  <matplotlib.lines.Line2D at 0x2308dca8748>],\n",
       " 'boxes': [<matplotlib.lines.Line2D at 0x2308dc9f8d0>],\n",
       " 'medians': [<matplotlib.lines.Line2D at 0x2308dca8b70>],\n",
       " 'fliers': [<matplotlib.lines.Line2D at 0x2308dca8f98>],\n",
       " 'means': []}"
      ]
     },
     "execution_count": 44,
     "metadata": {},
     "output_type": "execute_result"
    },
    {
     "data": {
      "image/png": "[encoded data removed]",
      "text/plain": [
       "<Figure size 432x288 with 1 Axes>"
      ]
     },
     "metadata": {
      "needs_background": "light"
     },
     "output_type": "display_data"
    }
   ],
   "source": [
    "plt.boxplot(x=europe_set[\"Per_Cap_GDP_Nom_Dollars\"], whis=1.5)"
   ]
  },
  {
   "cell_type": "markdown",
   "metadata": {},
   "source": [
    "If we look at the countries in each continent side by side we can see all have outliers beyond the upper whisker, but none have outliers below the lower whisker as the the lowest value in each case is inside 1.5 IQR from the first quartile."
   ]
  },
  {
   "cell_type": "code",
   "execution_count": 61,
   "metadata": {},
   "outputs": [
    {
     "data": {
      "text/plain": [
       "<matplotlib.axes._subplots.AxesSubplot at 0x2308e543828>"
      ]
     },
     "execution_count": 61,
     "metadata": {},
     "output_type": "execute_result"
    },
    {
     "data": {
      "image/png": "[encoded data removed]",
      "text/plain": [
       "<Figure size 360x360 with 1 Axes>"
      ]
     },
     "metadata": {},
     "output_type": "display_data"
    }
   ],
   "source": [
    "sns.boxplot(x=\"Continent\", y=\"Per_Cap_GDP_Nom_Dollars\", data=gdp_percountry)"
   ]
  },
  {
   "cell_type": "markdown",
   "metadata": {},
   "source": [
    "If we were using the max and min values as the whisker \"fences\" there would be no outliers to plot as all would be within the max and min.\n",
    "\n",
    "Plotting outliers is important as it lets the viewer know that there could be certain datapoints present that are throwing off the summary statistics and maybe should be investigate further or ignored."
   ]
  },
  {
   "cell_type": "markdown",
   "metadata": {},
   "source": [
    "While not traditionally and element of a boxplot, it can be helpful to plot the full spread of the data over the boxplot, such as in the example below. This allows you the viewer to see the location of the individual datapoints rather than just the summary statistics. The viewer will have some sense of the spread from the length of the box itself and the whiskers, but plotting the individual points gives ever more detail.\n",
    "\n",
    "Looking at all the countries below, we can see there are a handful of countries on each continent that account for the a disporportionate amount of the total GPD."
   ]
  },
  {
   "cell_type": "code",
   "execution_count": 55,
   "metadata": {},
   "outputs": [
    {
     "data": {
      "image/png": "[encoded data removed]",
      "text/plain": [
       "<Figure size 842.4x595.44 with 1 Axes>"
      ]
     },
     "metadata": {},
     "output_type": "display_data"
    }
   ],
   "source": [
    "sns.boxplot(x=\"Continent\", y=\"Per_Cap_GDP_Nom_Dollars\", data=gdp_percountry)\n",
    "sns.swarmplot(x=\"Continent\", y=\"Per_Cap_GDP_Nom_Dollars\", data=gdp_percountry, color=\".25\")\n",
    "sns.set(rc={\"figure.figsize\":(20,20)})"
   ]
  },
  {
   "cell_type": "markdown",
   "metadata": {},
   "source": [
    "### 3.3 Width of Boxes"
   ]
  },
  {
   "cell_type": "markdown",
   "metadata": {},
   "source": [
    "The width of the boxes in a boxplot can be used to indicate the count or amount of values in a group that is being plotted. For example in our GDP datasets case, the counts for the numbers of countries in each continent are displayed below."
   ]
  },
  {
   "cell_type": "code",
   "execution_count": 78,
   "metadata": {},
   "outputs": [
    {
     "data": {
      "text/html": [
       "<div>\n",
       "<style scoped>\n",
       "    .dataframe tbody tr th:only-of-type {\n",
       "        vertical-align: middle;\n",
       "    }\n",
       "\n",
       "    .dataframe tbody tr th {\n",
       "        vertical-align: top;\n",
       "    }\n",
       "\n",
       "    .dataframe thead th {\n",
       "        text-align: right;\n",
       "    }\n",
       "</style>\n",
       "<table border=\"1\" class=\"dataframe\">\n",
       "  <thead>\n",
       "    <tr style=\"text-align: right;\">\n",
       "      <th></th>\n",
       "      <th>Country_Territory</th>\n",
       "    </tr>\n",
       "    <tr>\n",
       "      <th>Continent</th>\n",
       "      <th></th>\n",
       "    </tr>\n",
       "  </thead>\n",
       "  <tbody>\n",
       "    <tr>\n",
       "      <th>Africa</th>\n",
       "      <td>53</td>\n",
       "    </tr>\n",
       "    <tr>\n",
       "      <th>Asia</th>\n",
       "      <td>47</td>\n",
       "    </tr>\n",
       "    <tr>\n",
       "      <th>Europe</th>\n",
       "      <td>43</td>\n",
       "    </tr>\n",
       "    <tr>\n",
       "      <th>North_America</th>\n",
       "      <td>22</td>\n",
       "    </tr>\n",
       "    <tr>\n",
       "      <th>Oceania</th>\n",
       "      <td>12</td>\n",
       "    </tr>\n",
       "    <tr>\n",
       "      <th>South_America</th>\n",
       "      <td>13</td>\n",
       "    </tr>\n",
       "  </tbody>\n",
       "</table>\n",
       "</div>"
      ],
      "text/plain": [
       "               Country_Territory\n",
       "Continent                       \n",
       "Africa                        53\n",
       "Asia                          47\n",
       "Europe                        43\n",
       "North_America                 22\n",
       "Oceania                       12\n",
       "South_America                 13"
      ]
     },
     "execution_count": 78,
     "metadata": {},
     "output_type": "execute_result"
    }
   ],
   "source": [
    "gdp_percountry.set_index(\"Continent\")\n",
    "country_counts = gdp_percountry.pivot_table(index=\"Continent\", values=\"Country_Territory\", aggfunc=len)\n",
    "country_counts"
   ]
  },
  {
   "cell_type": "markdown",
   "metadata": {},
   "source": [
    "By convention, the width of the box in calculated by getting the square root of the size of the group. "
   ]
  },
  {
   "cell_type": "code",
   "execution_count": 82,
   "metadata": {},
   "outputs": [
    {
     "name": "stdout",
     "output_type": "stream",
     "text": [
      "7.280109889280518\n",
      "6.855654600401044\n",
      "6.557438524302\n",
      "4.69041575982343\n",
      "3.4641016151377544\n",
      "3.605551275463989\n"
     ]
    }
   ],
   "source": [
    "import math\n",
    "africa_w = math.sqrt(53)\n",
    "asia_w = math.sqrt(47)\n",
    "europe_w = math.sqrt(43)\n",
    "northa_w = math.sqrt(22)\n",
    "oceania_w = math.sqrt(12)\n",
    "southa_w = math.sqrt(13)\n",
    "print(africa_w)\n",
    "print(asia_w)\n",
    "print(europe_w)\n",
    "print(northa_w)\n",
    "print(oceania_w)\n",
    "print(southa_w)"
   ]
  },
  {
   "cell_type": "code",
   "execution_count": 91,
   "metadata": {},
   "outputs": [
    {
     "ename": "TypeError",
     "evalue": "unsupported operand type(s) for /: 'str' and 'int'",
     "output_type": "error",
     "traceback": [
      "\u001b[1;31m---------------------------------------------------------------------------\u001b[0m",
      "\u001b[1;31mTypeError\u001b[0m                                 Traceback (most recent call last)",
      "\u001b[1;32m<ipython-input-91-c5047efa0f4e>\u001b[0m in \u001b[0;36m<module>\u001b[1;34m\u001b[0m\n\u001b[0;32m      1\u001b[0m \u001b[0mcont_matrix\u001b[0m \u001b[1;33m=\u001b[0m \u001b[0mgdp_percountry\u001b[0m\u001b[1;33m.\u001b[0m\u001b[0mdrop\u001b[0m\u001b[1;33m(\u001b[0m\u001b[1;33m[\u001b[0m\u001b[1;34m\"Country_Territory\"\u001b[0m\u001b[1;33m]\u001b[0m\u001b[1;33m,\u001b[0m\u001b[0maxis\u001b[0m\u001b[1;33m=\u001b[0m\u001b[1;36m1\u001b[0m\u001b[1;33m)\u001b[0m\u001b[1;33m.\u001b[0m\u001b[0mvalues\u001b[0m\u001b[1;33m\u001b[0m\u001b[1;33m\u001b[0m\u001b[0m\n\u001b[1;32m----> 2\u001b[1;33m \u001b[0mplt\u001b[0m\u001b[1;33m.\u001b[0m\u001b[0mboxplot\u001b[0m\u001b[1;33m(\u001b[0m\u001b[0mcont_matrix\u001b[0m\u001b[1;33m,\u001b[0m \u001b[0mshowfliers\u001b[0m\u001b[1;33m=\u001b[0m\u001b[1;32mFalse\u001b[0m\u001b[1;33m,\u001b[0m \u001b[0mwidths\u001b[0m\u001b[1;33m=\u001b[0m\u001b[1;33m(\u001b[0m\u001b[1;36m0.68\u001b[0m\u001b[1;33m,\u001b[0m \u001b[1;36m0.65\u001b[0m\u001b[1;33m,\u001b[0m \u001b[1;36m0.47\u001b[0m\u001b[1;33m,\u001b[0m \u001b[1;36m0.34\u001b[0m\u001b[1;33m,\u001b[0m \u001b[1;36m0.36\u001b[0m\u001b[1;33m,\u001b[0m \u001b[1;36m0.72\u001b[0m\u001b[1;33m)\u001b[0m\u001b[1;33m)\u001b[0m\u001b[1;33m\u001b[0m\u001b[1;33m\u001b[0m\u001b[0m\n\u001b[0m",
      "\u001b[1;32m~\\Anaconda3\\lib\\site-packages\\matplotlib\\pyplot.py\u001b[0m in \u001b[0;36mboxplot\u001b[1;34m(x, notch, sym, vert, whis, positions, widths, patch_artist, bootstrap, usermedians, conf_intervals, meanline, showmeans, showcaps, showbox, showfliers, boxprops, labels, flierprops, medianprops, meanprops, capprops, whiskerprops, manage_xticks, autorange, zorder, hold, data)\u001b[0m\n\u001b[0;32m   2851\u001b[0m                          \u001b[0mwhiskerprops\u001b[0m\u001b[1;33m=\u001b[0m\u001b[0mwhiskerprops\u001b[0m\u001b[1;33m,\u001b[0m\u001b[1;33m\u001b[0m\u001b[1;33m\u001b[0m\u001b[0m\n\u001b[0;32m   2852\u001b[0m                          \u001b[0mmanage_xticks\u001b[0m\u001b[1;33m=\u001b[0m\u001b[0mmanage_xticks\u001b[0m\u001b[1;33m,\u001b[0m \u001b[0mautorange\u001b[0m\u001b[1;33m=\u001b[0m\u001b[0mautorange\u001b[0m\u001b[1;33m,\u001b[0m\u001b[1;33m\u001b[0m\u001b[1;33m\u001b[0m\u001b[0m\n\u001b[1;32m-> 2853\u001b[1;33m                          zorder=zorder, data=data)\n\u001b[0m\u001b[0;32m   2854\u001b[0m     \u001b[1;32mfinally\u001b[0m\u001b[1;33m:\u001b[0m\u001b[1;33m\u001b[0m\u001b[1;33m\u001b[0m\u001b[0m\n\u001b[0;32m   2855\u001b[0m         \u001b[0max\u001b[0m\u001b[1;33m.\u001b[0m\u001b[0m_hold\u001b[0m \u001b[1;33m=\u001b[0m \u001b[0mwashold\u001b[0m\u001b[1;33m\u001b[0m\u001b[1;33m\u001b[0m\u001b[0m\n",
      "\u001b[1;32m~\\Anaconda3\\lib\\site-packages\\matplotlib\\__init__.py\u001b[0m in \u001b[0;36minner\u001b[1;34m(ax, *args, **kwargs)\u001b[0m\n\u001b[0;32m   1865\u001b[0m                         \u001b[1;34m\"the Matplotlib list!)\"\u001b[0m \u001b[1;33m%\u001b[0m \u001b[1;33m(\u001b[0m\u001b[0mlabel_namer\u001b[0m\u001b[1;33m,\u001b[0m \u001b[0mfunc\u001b[0m\u001b[1;33m.\u001b[0m\u001b[0m__name__\u001b[0m\u001b[1;33m)\u001b[0m\u001b[1;33m,\u001b[0m\u001b[1;33m\u001b[0m\u001b[1;33m\u001b[0m\u001b[0m\n\u001b[0;32m   1866\u001b[0m                         RuntimeWarning, stacklevel=2)\n\u001b[1;32m-> 1867\u001b[1;33m             \u001b[1;32mreturn\u001b[0m \u001b[0mfunc\u001b[0m\u001b[1;33m(\u001b[0m\u001b[0max\u001b[0m\u001b[1;33m,\u001b[0m \u001b[1;33m*\u001b[0m\u001b[0margs\u001b[0m\u001b[1;33m,\u001b[0m \u001b[1;33m**\u001b[0m\u001b[0mkwargs\u001b[0m\u001b[1;33m)\u001b[0m\u001b[1;33m\u001b[0m\u001b[1;33m\u001b[0m\u001b[0m\n\u001b[0m\u001b[0;32m   1868\u001b[0m \u001b[1;33m\u001b[0m\u001b[0m\n\u001b[0;32m   1869\u001b[0m         inner.__doc__ = _add_data_doc(inner.__doc__,\n",
      "\u001b[1;32m~\\Anaconda3\\lib\\site-packages\\matplotlib\\axes\\_axes.py\u001b[0m in \u001b[0;36mboxplot\u001b[1;34m(self, x, notch, sym, vert, whis, positions, widths, patch_artist, bootstrap, usermedians, conf_intervals, meanline, showmeans, showcaps, showbox, showfliers, boxprops, labels, flierprops, medianprops, meanprops, capprops, whiskerprops, manage_xticks, autorange, zorder)\u001b[0m\n\u001b[0;32m   3569\u001b[0m \u001b[1;33m\u001b[0m\u001b[0m\n\u001b[0;32m   3570\u001b[0m         bxpstats = cbook.boxplot_stats(x, whis=whis, bootstrap=bootstrap,\n\u001b[1;32m-> 3571\u001b[1;33m                                        labels=labels, autorange=autorange)\n\u001b[0m\u001b[0;32m   3572\u001b[0m         \u001b[1;32mif\u001b[0m \u001b[0mnotch\u001b[0m \u001b[1;32mis\u001b[0m \u001b[1;32mNone\u001b[0m\u001b[1;33m:\u001b[0m\u001b[1;33m\u001b[0m\u001b[1;33m\u001b[0m\u001b[0m\n\u001b[0;32m   3573\u001b[0m             \u001b[0mnotch\u001b[0m \u001b[1;33m=\u001b[0m \u001b[0mrcParams\u001b[0m\u001b[1;33m[\u001b[0m\u001b[1;34m'boxplot.notch'\u001b[0m\u001b[1;33m]\u001b[0m\u001b[1;33m\u001b[0m\u001b[1;33m\u001b[0m\u001b[0m\n",
      "\u001b[1;32m~\\Anaconda3\\lib\\site-packages\\matplotlib\\cbook\\__init__.py\u001b[0m in \u001b[0;36mboxplot_stats\u001b[1;34m(X, whis, bootstrap, labels, autorange)\u001b[0m\n\u001b[0;32m   1841\u001b[0m \u001b[1;33m\u001b[0m\u001b[0m\n\u001b[0;32m   1842\u001b[0m         \u001b[1;31m# arithmetic mean\u001b[0m\u001b[1;33m\u001b[0m\u001b[1;33m\u001b[0m\u001b[1;33m\u001b[0m\u001b[0m\n\u001b[1;32m-> 1843\u001b[1;33m         \u001b[0mstats\u001b[0m\u001b[1;33m[\u001b[0m\u001b[1;34m'mean'\u001b[0m\u001b[1;33m]\u001b[0m \u001b[1;33m=\u001b[0m \u001b[0mnp\u001b[0m\u001b[1;33m.\u001b[0m\u001b[0mmean\u001b[0m\u001b[1;33m(\u001b[0m\u001b[0mx\u001b[0m\u001b[1;33m)\u001b[0m\u001b[1;33m\u001b[0m\u001b[1;33m\u001b[0m\u001b[0m\n\u001b[0m\u001b[0;32m   1844\u001b[0m \u001b[1;33m\u001b[0m\u001b[0m\n\u001b[0;32m   1845\u001b[0m         \u001b[1;31m# medians and quartiles\u001b[0m\u001b[1;33m\u001b[0m\u001b[1;33m\u001b[0m\u001b[1;33m\u001b[0m\u001b[0m\n",
      "\u001b[1;32m~\\Anaconda3\\lib\\site-packages\\numpy\\core\\fromnumeric.py\u001b[0m in \u001b[0;36mmean\u001b[1;34m(a, axis, dtype, out, keepdims)\u001b[0m\n\u001b[0;32m   2918\u001b[0m \u001b[1;33m\u001b[0m\u001b[0m\n\u001b[0;32m   2919\u001b[0m     return _methods._mean(a, axis=axis, dtype=dtype,\n\u001b[1;32m-> 2920\u001b[1;33m                           out=out, **kwargs)\n\u001b[0m\u001b[0;32m   2921\u001b[0m \u001b[1;33m\u001b[0m\u001b[0m\n\u001b[0;32m   2922\u001b[0m \u001b[1;33m\u001b[0m\u001b[0m\n",
      "\u001b[1;32m~\\Anaconda3\\lib\\site-packages\\numpy\\core\\_methods.py\u001b[0m in \u001b[0;36m_mean\u001b[1;34m(a, axis, dtype, out, keepdims)\u001b[0m\n\u001b[0;32m     85\u001b[0m             \u001b[0mret\u001b[0m \u001b[1;33m=\u001b[0m \u001b[0mret\u001b[0m\u001b[1;33m.\u001b[0m\u001b[0mdtype\u001b[0m\u001b[1;33m.\u001b[0m\u001b[0mtype\u001b[0m\u001b[1;33m(\u001b[0m\u001b[0mret\u001b[0m \u001b[1;33m/\u001b[0m \u001b[0mrcount\u001b[0m\u001b[1;33m)\u001b[0m\u001b[1;33m\u001b[0m\u001b[1;33m\u001b[0m\u001b[0m\n\u001b[0;32m     86\u001b[0m     \u001b[1;32melse\u001b[0m\u001b[1;33m:\u001b[0m\u001b[1;33m\u001b[0m\u001b[1;33m\u001b[0m\u001b[0m\n\u001b[1;32m---> 87\u001b[1;33m         \u001b[0mret\u001b[0m \u001b[1;33m=\u001b[0m \u001b[0mret\u001b[0m \u001b[1;33m/\u001b[0m \u001b[0mrcount\u001b[0m\u001b[1;33m\u001b[0m\u001b[1;33m\u001b[0m\u001b[0m\n\u001b[0m\u001b[0;32m     88\u001b[0m \u001b[1;33m\u001b[0m\u001b[0m\n\u001b[0;32m     89\u001b[0m     \u001b[1;32mreturn\u001b[0m \u001b[0mret\u001b[0m\u001b[1;33m\u001b[0m\u001b[1;33m\u001b[0m\u001b[0m\n",
      "\u001b[1;31mTypeError\u001b[0m: unsupported operand type(s) for /: 'str' and 'int'"
     ]
    },
    {
     "data": {
      "image/png": "[encoded data removed]",
      "text/plain": [
       "<Figure size 360x360 with 1 Axes>"
      ]
     },
     "metadata": {},
     "output_type": "display_data"
    }
   ],
   "source": [
    "cont_matrix = gdp_percountry.drop([\"Country_Territory\"],axis=1).values\n",
    "plt.boxplot(cont_matrix, showfliers=False, widths=(0.68, 0.65, 0.47, 0.34, 0.36, 0.72))\n"
   ]
  },
  {
   "cell_type": "markdown",
   "metadata": {},
   "source": [
    "### 3.4 Notched Boxes !!!!!!!!!!!!!!!"
   ]
  },
  {
   "cell_type": "markdown",
   "metadata": {},
   "source": [
    "Notches in the box itself are used to illustrate the confidence interval around the mean for that group of data. \n",
    "\n",
    "The confidence interval is "
   ]
  },
  {
   "cell_type": "markdown",
   "metadata": {},
   "source": [
    "## 2.0 Box Plot Uses"
   ]
  },
  {
   "cell_type": "code",
   "execution_count": 16,
   "metadata": {},
   "outputs": [
    {
     "data": {
      "text/html": [
       "<div>\n",
       "<style scoped>\n",
       "    .dataframe tbody tr th:only-of-type {\n",
       "        vertical-align: middle;\n",
       "    }\n",
       "\n",
       "    .dataframe tbody tr th {\n",
       "        vertical-align: top;\n",
       "    }\n",
       "\n",
       "    .dataframe thead th {\n",
       "        text-align: right;\n",
       "    }\n",
       "</style>\n",
       "<table border=\"1\" class=\"dataframe\">\n",
       "  <thead>\n",
       "    <tr style=\"text-align: right;\">\n",
       "      <th></th>\n",
       "      <th>Per_Cap_GDP_Nom_Dollars</th>\n",
       "    </tr>\n",
       "  </thead>\n",
       "  <tbody>\n",
       "    <tr>\n",
       "      <th>count</th>\n",
       "      <td>190.000000</td>\n",
       "    </tr>\n",
       "    <tr>\n",
       "      <th>mean</th>\n",
       "      <td>13789.205263</td>\n",
       "    </tr>\n",
       "    <tr>\n",
       "      <th>std</th>\n",
       "      <td>18866.654900</td>\n",
       "    </tr>\n",
       "    <tr>\n",
       "      <th>min</th>\n",
       "      <td>228.000000</td>\n",
       "    </tr>\n",
       "    <tr>\n",
       "      <th>25%</th>\n",
       "      <td>1964.250000</td>\n",
       "    </tr>\n",
       "    <tr>\n",
       "      <th>50%</th>\n",
       "      <td>5500.500000</td>\n",
       "    </tr>\n",
       "    <tr>\n",
       "      <th>75%</th>\n",
       "      <td>16723.000000</td>\n",
       "    </tr>\n",
       "    <tr>\n",
       "      <th>max</th>\n",
       "      <td>105863.000000</td>\n",
       "    </tr>\n",
       "  </tbody>\n",
       "</table>\n",
       "</div>"
      ],
      "text/plain": [
       "       Per_Cap_GDP_Nom_Dollars\n",
       "count               190.000000\n",
       "mean              13789.205263\n",
       "std               18866.654900\n",
       "min                 228.000000\n",
       "25%                1964.250000\n",
       "50%                5500.500000\n",
       "75%               16723.000000\n",
       "max              105863.000000"
      ]
     },
     "execution_count": 16,
     "metadata": {},
     "output_type": "execute_result"
    }
   ],
   "source": [
    "gdp_percountry.describe()"
   ]
  },
  {
   "cell_type": "markdown",
   "metadata": {},
   "source": [
    "#### Seaborn Boxplot"
   ]
  },
  {
   "cell_type": "markdown",
   "metadata": {},
   "source": [
    "Seaborns boxplot is locked in it approach to whiskers. Whiskers are not the max and min, instead they are values outside the upper quartile."
   ]
  },
  {
   "cell_type": "code",
   "execution_count": 17,
   "metadata": {},
   "outputs": [
    {
     "data": {
      "text/plain": [
       "<matplotlib.axes._subplots.AxesSubplot at 0x2308d7344e0>"
      ]
     },
     "execution_count": 17,
     "metadata": {},
     "output_type": "execute_result"
    },
    {
     "data": {
      "image/png": "[encoded data removed]",
      "text/plain": [
       "<Figure size 432x288 with 1 Axes>"
      ]
     },
     "metadata": {
      "needs_background": "light"
     },
     "output_type": "display_data"
    }
   ],
   "source": [
    "sns.boxplot(x=\"Continent\", y=\"Per_Cap_GDP_Nom_Dollars\", data=gdp_percountry)"
   ]
  },
  {
   "cell_type": "code",
   "execution_count": 18,
   "metadata": {},
   "outputs": [
    {
     "data": {
      "text/plain": [
       "<matplotlib.axes._subplots.AxesSubplot at 0x2308d716780>"
      ]
     },
     "execution_count": 18,
     "metadata": {},
     "output_type": "execute_result"
    },
    {
     "data": {
      "image/png": "[encoded data removed]",
      "text/plain": [
       "<Figure size 432x288 with 1 Axes>"
      ]
     },
     "metadata": {
      "needs_background": "light"
     },
     "output_type": "display_data"
    }
   ],
   "source": [
    "sns.boxplot(x=\"Continent\", y=\"Per_Cap_GDP_Nom_Dollars\", data=gdp_percountry)\n",
    "sns.swarmplot(x=\"Continent\", y=\"Per_Cap_GDP_Nom_Dollars\", data=gdp_percountry, color=\".25\")"
   ]
  },
  {
   "cell_type": "code",
   "execution_count": null,
   "metadata": {},
   "outputs": [],
   "source": []
  }
 ],
 "metadata": {
  "kernelspec": {
   "display_name": "Python 3",
   "language": "python",
   "name": "python3"
  },
  "language_info": {
   "codemirror_mode": {
    "name": "ipython",
    "version": 3
   },
   "file_extension": ".py",
   "mimetype": "text/x-python",
   "name": "python",
   "nbconvert_exporter": "python",
   "pygments_lexer": "ipython3",
   "version": "3.6.7"
  }
 },
 "nbformat": 4,
 "nbformat_minor": 2
}
